{
  "nbformat": 4,
  "nbformat_minor": 0,
  "metadata": {
    "colab": {
      "name": "Weighted hybrid technique for Recommender system.ipynb",
      "provenance": [],
      "authorship_tag": "ABX9TyNJhkWinvVtJo45f0IVVpAu",
      "include_colab_link": true
    },
    "kernelspec": {
      "name": "python3",
      "display_name": "Python 3"
    }
  },
  "cells": [
    {
      "cell_type": "markdown",
      "metadata": {
        "id": "view-in-github",
        "colab_type": "text"
      },
      "source": [
        "<a href=\"https://colab.research.google.com/github/eliashossain001/Movie-Recommender-System/blob/master/Weighted_hybrid_technique_for_Recommender_system.ipynb\" target=\"_parent\"><img src=\"https://colab.research.google.com/assets/colab-badge.svg\" alt=\"Open In Colab\"/></a>"
      ]
    },
    {
      "cell_type": "markdown",
      "metadata": {
        "id": "LvciLtGB0rxd",
        "colab_type": "text"
      },
      "source": [
        "**Load data from drive**"
      ]
    },
    {
      "cell_type": "code",
      "metadata": {
        "id": "ZyDF0u6Q0x1y",
        "colab_type": "code",
        "colab": {
          "base_uri": "https://localhost:8080/",
          "height": 124
        },
        "outputId": "29bcc361-b3c8-49de-b85c-21c765ceb43c"
      },
      "source": [
        "from google.colab import drive\n",
        "drive.mount('/content/drive')"
      ],
      "execution_count": null,
      "outputs": [
        {
          "output_type": "stream",
          "text": [
            "Go to this URL in a browser: https://accounts.google.com/o/oauth2/auth?client_id=947318989803-6bn6qk8qdgf4n4g3pfee6491hc0brc4i.apps.googleusercontent.com&redirect_uri=urn%3aietf%3awg%3aoauth%3a2.0%3aoob&scope=email%20https%3a%2f%2fwww.googleapis.com%2fauth%2fdocs.test%20https%3a%2f%2fwww.googleapis.com%2fauth%2fdrive%20https%3a%2f%2fwww.googleapis.com%2fauth%2fdrive.photos.readonly%20https%3a%2f%2fwww.googleapis.com%2fauth%2fpeopleapi.readonly&response_type=code\n",
            "\n",
            "Enter your authorization code:\n",
            "··········\n",
            "Mounted at /content/drive\n"
          ],
          "name": "stdout"
        }
      ]
    },
    {
      "cell_type": "code",
      "metadata": {
        "id": "xnqF-Zqb0_G8",
        "colab_type": "code",
        "colab": {}
      },
      "source": [
        "import pandas as pd\n",
        "credits= pd.read_csv(\"/content/drive/My Drive/Colab Notebooks/Recommendation dataset/tmdb_5000_credits.csv\")\n",
        "movies_df= pd.read_csv(\"/content/drive/My Drive/Colab Notebooks/Recommendation dataset/tmdb_5000_movies.csv\")"
      ],
      "execution_count": null,
      "outputs": []
    },
    {
      "cell_type": "code",
      "metadata": {
        "id": "Ud6J9msU1obl",
        "colab_type": "code",
        "colab": {
          "base_uri": "https://localhost:8080/",
          "height": 202
        },
        "outputId": "45df77e7-9ec5-4221-8844-094f269671f1"
      },
      "source": [
        "credits.head(5)"
      ],
      "execution_count": null,
      "outputs": [
        {
          "output_type": "execute_result",
          "data": {
            "text/html": [
              "<div>\n",
              "<style scoped>\n",
              "    .dataframe tbody tr th:only-of-type {\n",
              "        vertical-align: middle;\n",
              "    }\n",
              "\n",
              "    .dataframe tbody tr th {\n",
              "        vertical-align: top;\n",
              "    }\n",
              "\n",
              "    .dataframe thead th {\n",
              "        text-align: right;\n",
              "    }\n",
              "</style>\n",
              "<table border=\"1\" class=\"dataframe\">\n",
              "  <thead>\n",
              "    <tr style=\"text-align: right;\">\n",
              "      <th></th>\n",
              "      <th>movie_id</th>\n",
              "      <th>title</th>\n",
              "      <th>cast</th>\n",
              "      <th>crew</th>\n",
              "    </tr>\n",
              "  </thead>\n",
              "  <tbody>\n",
              "    <tr>\n",
              "      <th>0</th>\n",
              "      <td>19995</td>\n",
              "      <td>Avatar</td>\n",
              "      <td>[{\"cast_id\": 242, \"character\": \"Jake Sully\", \"...</td>\n",
              "      <td>[{\"credit_id\": \"52fe48009251416c750aca23\", \"de...</td>\n",
              "    </tr>\n",
              "    <tr>\n",
              "      <th>1</th>\n",
              "      <td>285</td>\n",
              "      <td>Pirates of the Caribbean: At World's End</td>\n",
              "      <td>[{\"cast_id\": 4, \"character\": \"Captain Jack Spa...</td>\n",
              "      <td>[{\"credit_id\": \"52fe4232c3a36847f800b579\", \"de...</td>\n",
              "    </tr>\n",
              "    <tr>\n",
              "      <th>2</th>\n",
              "      <td>206647</td>\n",
              "      <td>Spectre</td>\n",
              "      <td>[{\"cast_id\": 1, \"character\": \"James Bond\", \"cr...</td>\n",
              "      <td>[{\"credit_id\": \"54805967c3a36829b5002c41\", \"de...</td>\n",
              "    </tr>\n",
              "    <tr>\n",
              "      <th>3</th>\n",
              "      <td>49026</td>\n",
              "      <td>The Dark Knight Rises</td>\n",
              "      <td>[{\"cast_id\": 2, \"character\": \"Bruce Wayne / Ba...</td>\n",
              "      <td>[{\"credit_id\": \"52fe4781c3a36847f81398c3\", \"de...</td>\n",
              "    </tr>\n",
              "    <tr>\n",
              "      <th>4</th>\n",
              "      <td>49529</td>\n",
              "      <td>John Carter</td>\n",
              "      <td>[{\"cast_id\": 5, \"character\": \"John Carter\", \"c...</td>\n",
              "      <td>[{\"credit_id\": \"52fe479ac3a36847f813eaa3\", \"de...</td>\n",
              "    </tr>\n",
              "  </tbody>\n",
              "</table>\n",
              "</div>"
            ],
            "text/plain": [
              "   movie_id  ...                                               crew\n",
              "0     19995  ...  [{\"credit_id\": \"52fe48009251416c750aca23\", \"de...\n",
              "1       285  ...  [{\"credit_id\": \"52fe4232c3a36847f800b579\", \"de...\n",
              "2    206647  ...  [{\"credit_id\": \"54805967c3a36829b5002c41\", \"de...\n",
              "3     49026  ...  [{\"credit_id\": \"52fe4781c3a36847f81398c3\", \"de...\n",
              "4     49529  ...  [{\"credit_id\": \"52fe479ac3a36847f813eaa3\", \"de...\n",
              "\n",
              "[5 rows x 4 columns]"
            ]
          },
          "metadata": {
            "tags": []
          },
          "execution_count": 8
        }
      ]
    },
    {
      "cell_type": "code",
      "metadata": {
        "id": "2Mu-rdfP3qoL",
        "colab_type": "code",
        "colab": {
          "base_uri": "https://localhost:8080/",
          "height": 725
        },
        "outputId": "297319f9-f452-44f5-f8fd-5a450ee3a4b9"
      },
      "source": [
        "movies_df.head(5)"
      ],
      "execution_count": null,
      "outputs": [
        {
          "output_type": "execute_result",
          "data": {
            "text/html": [
              "<div>\n",
              "<style scoped>\n",
              "    .dataframe tbody tr th:only-of-type {\n",
              "        vertical-align: middle;\n",
              "    }\n",
              "\n",
              "    .dataframe tbody tr th {\n",
              "        vertical-align: top;\n",
              "    }\n",
              "\n",
              "    .dataframe thead th {\n",
              "        text-align: right;\n",
              "    }\n",
              "</style>\n",
              "<table border=\"1\" class=\"dataframe\">\n",
              "  <thead>\n",
              "    <tr style=\"text-align: right;\">\n",
              "      <th></th>\n",
              "      <th>budget</th>\n",
              "      <th>genres</th>\n",
              "      <th>homepage</th>\n",
              "      <th>id</th>\n",
              "      <th>keywords</th>\n",
              "      <th>original_language</th>\n",
              "      <th>original_title</th>\n",
              "      <th>overview</th>\n",
              "      <th>popularity</th>\n",
              "      <th>production_companies</th>\n",
              "      <th>production_countries</th>\n",
              "      <th>release_date</th>\n",
              "      <th>revenue</th>\n",
              "      <th>runtime</th>\n",
              "      <th>spoken_languages</th>\n",
              "      <th>status</th>\n",
              "      <th>tagline</th>\n",
              "      <th>title</th>\n",
              "      <th>vote_average</th>\n",
              "      <th>vote_count</th>\n",
              "    </tr>\n",
              "  </thead>\n",
              "  <tbody>\n",
              "    <tr>\n",
              "      <th>0</th>\n",
              "      <td>237000000</td>\n",
              "      <td>[{\"id\": 28, \"name\": \"Action\"}, {\"id\": 12, \"nam...</td>\n",
              "      <td>http://www.avatarmovie.com/</td>\n",
              "      <td>19995</td>\n",
              "      <td>[{\"id\": 1463, \"name\": \"culture clash\"}, {\"id\":...</td>\n",
              "      <td>en</td>\n",
              "      <td>Avatar</td>\n",
              "      <td>In the 22nd century, a paraplegic Marine is di...</td>\n",
              "      <td>150.437577</td>\n",
              "      <td>[{\"name\": \"Ingenious Film Partners\", \"id\": 289...</td>\n",
              "      <td>[{\"iso_3166_1\": \"US\", \"name\": \"United States o...</td>\n",
              "      <td>2009-12-10</td>\n",
              "      <td>2787965087</td>\n",
              "      <td>162.0</td>\n",
              "      <td>[{\"iso_639_1\": \"en\", \"name\": \"English\"}, {\"iso...</td>\n",
              "      <td>Released</td>\n",
              "      <td>Enter the World of Pandora.</td>\n",
              "      <td>Avatar</td>\n",
              "      <td>7.2</td>\n",
              "      <td>11800</td>\n",
              "    </tr>\n",
              "    <tr>\n",
              "      <th>1</th>\n",
              "      <td>300000000</td>\n",
              "      <td>[{\"id\": 12, \"name\": \"Adventure\"}, {\"id\": 14, \"...</td>\n",
              "      <td>http://disney.go.com/disneypictures/pirates/</td>\n",
              "      <td>285</td>\n",
              "      <td>[{\"id\": 270, \"name\": \"ocean\"}, {\"id\": 726, \"na...</td>\n",
              "      <td>en</td>\n",
              "      <td>Pirates of the Caribbean: At World's End</td>\n",
              "      <td>Captain Barbossa, long believed to be dead, ha...</td>\n",
              "      <td>139.082615</td>\n",
              "      <td>[{\"name\": \"Walt Disney Pictures\", \"id\": 2}, {\"...</td>\n",
              "      <td>[{\"iso_3166_1\": \"US\", \"name\": \"United States o...</td>\n",
              "      <td>2007-05-19</td>\n",
              "      <td>961000000</td>\n",
              "      <td>169.0</td>\n",
              "      <td>[{\"iso_639_1\": \"en\", \"name\": \"English\"}]</td>\n",
              "      <td>Released</td>\n",
              "      <td>At the end of the world, the adventure begins.</td>\n",
              "      <td>Pirates of the Caribbean: At World's End</td>\n",
              "      <td>6.9</td>\n",
              "      <td>4500</td>\n",
              "    </tr>\n",
              "    <tr>\n",
              "      <th>2</th>\n",
              "      <td>245000000</td>\n",
              "      <td>[{\"id\": 28, \"name\": \"Action\"}, {\"id\": 12, \"nam...</td>\n",
              "      <td>http://www.sonypictures.com/movies/spectre/</td>\n",
              "      <td>206647</td>\n",
              "      <td>[{\"id\": 470, \"name\": \"spy\"}, {\"id\": 818, \"name...</td>\n",
              "      <td>en</td>\n",
              "      <td>Spectre</td>\n",
              "      <td>A cryptic message from Bond’s past sends him o...</td>\n",
              "      <td>107.376788</td>\n",
              "      <td>[{\"name\": \"Columbia Pictures\", \"id\": 5}, {\"nam...</td>\n",
              "      <td>[{\"iso_3166_1\": \"GB\", \"name\": \"United Kingdom\"...</td>\n",
              "      <td>2015-10-26</td>\n",
              "      <td>880674609</td>\n",
              "      <td>148.0</td>\n",
              "      <td>[{\"iso_639_1\": \"fr\", \"name\": \"Fran\\u00e7ais\"},...</td>\n",
              "      <td>Released</td>\n",
              "      <td>A Plan No One Escapes</td>\n",
              "      <td>Spectre</td>\n",
              "      <td>6.3</td>\n",
              "      <td>4466</td>\n",
              "    </tr>\n",
              "    <tr>\n",
              "      <th>3</th>\n",
              "      <td>250000000</td>\n",
              "      <td>[{\"id\": 28, \"name\": \"Action\"}, {\"id\": 80, \"nam...</td>\n",
              "      <td>http://www.thedarkknightrises.com/</td>\n",
              "      <td>49026</td>\n",
              "      <td>[{\"id\": 849, \"name\": \"dc comics\"}, {\"id\": 853,...</td>\n",
              "      <td>en</td>\n",
              "      <td>The Dark Knight Rises</td>\n",
              "      <td>Following the death of District Attorney Harve...</td>\n",
              "      <td>112.312950</td>\n",
              "      <td>[{\"name\": \"Legendary Pictures\", \"id\": 923}, {\"...</td>\n",
              "      <td>[{\"iso_3166_1\": \"US\", \"name\": \"United States o...</td>\n",
              "      <td>2012-07-16</td>\n",
              "      <td>1084939099</td>\n",
              "      <td>165.0</td>\n",
              "      <td>[{\"iso_639_1\": \"en\", \"name\": \"English\"}]</td>\n",
              "      <td>Released</td>\n",
              "      <td>The Legend Ends</td>\n",
              "      <td>The Dark Knight Rises</td>\n",
              "      <td>7.6</td>\n",
              "      <td>9106</td>\n",
              "    </tr>\n",
              "    <tr>\n",
              "      <th>4</th>\n",
              "      <td>260000000</td>\n",
              "      <td>[{\"id\": 28, \"name\": \"Action\"}, {\"id\": 12, \"nam...</td>\n",
              "      <td>http://movies.disney.com/john-carter</td>\n",
              "      <td>49529</td>\n",
              "      <td>[{\"id\": 818, \"name\": \"based on novel\"}, {\"id\":...</td>\n",
              "      <td>en</td>\n",
              "      <td>John Carter</td>\n",
              "      <td>John Carter is a war-weary, former military ca...</td>\n",
              "      <td>43.926995</td>\n",
              "      <td>[{\"name\": \"Walt Disney Pictures\", \"id\": 2}]</td>\n",
              "      <td>[{\"iso_3166_1\": \"US\", \"name\": \"United States o...</td>\n",
              "      <td>2012-03-07</td>\n",
              "      <td>284139100</td>\n",
              "      <td>132.0</td>\n",
              "      <td>[{\"iso_639_1\": \"en\", \"name\": \"English\"}]</td>\n",
              "      <td>Released</td>\n",
              "      <td>Lost in our world, found in another.</td>\n",
              "      <td>John Carter</td>\n",
              "      <td>6.1</td>\n",
              "      <td>2124</td>\n",
              "    </tr>\n",
              "  </tbody>\n",
              "</table>\n",
              "</div>"
            ],
            "text/plain": [
              "      budget  ... vote_count\n",
              "0  237000000  ...      11800\n",
              "1  300000000  ...       4500\n",
              "2  245000000  ...       4466\n",
              "3  250000000  ...       9106\n",
              "4  260000000  ...       2124\n",
              "\n",
              "[5 rows x 20 columns]"
            ]
          },
          "metadata": {
            "tags": []
          },
          "execution_count": 9
        }
      ]
    },
    {
      "cell_type": "markdown",
      "metadata": {
        "id": "xO64hidT4cAW",
        "colab_type": "text"
      },
      "source": [
        "**Marge the data frame**"
      ]
    },
    {
      "cell_type": "code",
      "metadata": {
        "id": "AtVIvBEu4fTg",
        "colab_type": "code",
        "colab": {
          "base_uri": "https://localhost:8080/",
          "height": 725
        },
        "outputId": "6bd22061-dfb7-404e-d115-7cad06731772"
      },
      "source": [
        "credits_columns_renamed= credits.rename(index= str, columns={\"movie_id\": \"id\"})\n",
        "movies_df_merge= movies_df.merge(credits_columns_renamed, on= 'id')\n",
        "movies_df_merge.head(5)"
      ],
      "execution_count": null,
      "outputs": [
        {
          "output_type": "execute_result",
          "data": {
            "text/html": [
              "<div>\n",
              "<style scoped>\n",
              "    .dataframe tbody tr th:only-of-type {\n",
              "        vertical-align: middle;\n",
              "    }\n",
              "\n",
              "    .dataframe tbody tr th {\n",
              "        vertical-align: top;\n",
              "    }\n",
              "\n",
              "    .dataframe thead th {\n",
              "        text-align: right;\n",
              "    }\n",
              "</style>\n",
              "<table border=\"1\" class=\"dataframe\">\n",
              "  <thead>\n",
              "    <tr style=\"text-align: right;\">\n",
              "      <th></th>\n",
              "      <th>budget</th>\n",
              "      <th>genres</th>\n",
              "      <th>homepage</th>\n",
              "      <th>id</th>\n",
              "      <th>keywords</th>\n",
              "      <th>original_language</th>\n",
              "      <th>original_title</th>\n",
              "      <th>overview</th>\n",
              "      <th>popularity</th>\n",
              "      <th>production_companies</th>\n",
              "      <th>production_countries</th>\n",
              "      <th>release_date</th>\n",
              "      <th>revenue</th>\n",
              "      <th>runtime</th>\n",
              "      <th>spoken_languages</th>\n",
              "      <th>status</th>\n",
              "      <th>tagline</th>\n",
              "      <th>title_x</th>\n",
              "      <th>vote_average</th>\n",
              "      <th>vote_count</th>\n",
              "      <th>title_y</th>\n",
              "      <th>cast</th>\n",
              "      <th>crew</th>\n",
              "    </tr>\n",
              "  </thead>\n",
              "  <tbody>\n",
              "    <tr>\n",
              "      <th>0</th>\n",
              "      <td>237000000</td>\n",
              "      <td>[{\"id\": 28, \"name\": \"Action\"}, {\"id\": 12, \"nam...</td>\n",
              "      <td>http://www.avatarmovie.com/</td>\n",
              "      <td>19995</td>\n",
              "      <td>[{\"id\": 1463, \"name\": \"culture clash\"}, {\"id\":...</td>\n",
              "      <td>en</td>\n",
              "      <td>Avatar</td>\n",
              "      <td>In the 22nd century, a paraplegic Marine is di...</td>\n",
              "      <td>150.437577</td>\n",
              "      <td>[{\"name\": \"Ingenious Film Partners\", \"id\": 289...</td>\n",
              "      <td>[{\"iso_3166_1\": \"US\", \"name\": \"United States o...</td>\n",
              "      <td>2009-12-10</td>\n",
              "      <td>2787965087</td>\n",
              "      <td>162.0</td>\n",
              "      <td>[{\"iso_639_1\": \"en\", \"name\": \"English\"}, {\"iso...</td>\n",
              "      <td>Released</td>\n",
              "      <td>Enter the World of Pandora.</td>\n",
              "      <td>Avatar</td>\n",
              "      <td>7.2</td>\n",
              "      <td>11800</td>\n",
              "      <td>Avatar</td>\n",
              "      <td>[{\"cast_id\": 242, \"character\": \"Jake Sully\", \"...</td>\n",
              "      <td>[{\"credit_id\": \"52fe48009251416c750aca23\", \"de...</td>\n",
              "    </tr>\n",
              "    <tr>\n",
              "      <th>1</th>\n",
              "      <td>300000000</td>\n",
              "      <td>[{\"id\": 12, \"name\": \"Adventure\"}, {\"id\": 14, \"...</td>\n",
              "      <td>http://disney.go.com/disneypictures/pirates/</td>\n",
              "      <td>285</td>\n",
              "      <td>[{\"id\": 270, \"name\": \"ocean\"}, {\"id\": 726, \"na...</td>\n",
              "      <td>en</td>\n",
              "      <td>Pirates of the Caribbean: At World's End</td>\n",
              "      <td>Captain Barbossa, long believed to be dead, ha...</td>\n",
              "      <td>139.082615</td>\n",
              "      <td>[{\"name\": \"Walt Disney Pictures\", \"id\": 2}, {\"...</td>\n",
              "      <td>[{\"iso_3166_1\": \"US\", \"name\": \"United States o...</td>\n",
              "      <td>2007-05-19</td>\n",
              "      <td>961000000</td>\n",
              "      <td>169.0</td>\n",
              "      <td>[{\"iso_639_1\": \"en\", \"name\": \"English\"}]</td>\n",
              "      <td>Released</td>\n",
              "      <td>At the end of the world, the adventure begins.</td>\n",
              "      <td>Pirates of the Caribbean: At World's End</td>\n",
              "      <td>6.9</td>\n",
              "      <td>4500</td>\n",
              "      <td>Pirates of the Caribbean: At World's End</td>\n",
              "      <td>[{\"cast_id\": 4, \"character\": \"Captain Jack Spa...</td>\n",
              "      <td>[{\"credit_id\": \"52fe4232c3a36847f800b579\", \"de...</td>\n",
              "    </tr>\n",
              "    <tr>\n",
              "      <th>2</th>\n",
              "      <td>245000000</td>\n",
              "      <td>[{\"id\": 28, \"name\": \"Action\"}, {\"id\": 12, \"nam...</td>\n",
              "      <td>http://www.sonypictures.com/movies/spectre/</td>\n",
              "      <td>206647</td>\n",
              "      <td>[{\"id\": 470, \"name\": \"spy\"}, {\"id\": 818, \"name...</td>\n",
              "      <td>en</td>\n",
              "      <td>Spectre</td>\n",
              "      <td>A cryptic message from Bond’s past sends him o...</td>\n",
              "      <td>107.376788</td>\n",
              "      <td>[{\"name\": \"Columbia Pictures\", \"id\": 5}, {\"nam...</td>\n",
              "      <td>[{\"iso_3166_1\": \"GB\", \"name\": \"United Kingdom\"...</td>\n",
              "      <td>2015-10-26</td>\n",
              "      <td>880674609</td>\n",
              "      <td>148.0</td>\n",
              "      <td>[{\"iso_639_1\": \"fr\", \"name\": \"Fran\\u00e7ais\"},...</td>\n",
              "      <td>Released</td>\n",
              "      <td>A Plan No One Escapes</td>\n",
              "      <td>Spectre</td>\n",
              "      <td>6.3</td>\n",
              "      <td>4466</td>\n",
              "      <td>Spectre</td>\n",
              "      <td>[{\"cast_id\": 1, \"character\": \"James Bond\", \"cr...</td>\n",
              "      <td>[{\"credit_id\": \"54805967c3a36829b5002c41\", \"de...</td>\n",
              "    </tr>\n",
              "    <tr>\n",
              "      <th>3</th>\n",
              "      <td>250000000</td>\n",
              "      <td>[{\"id\": 28, \"name\": \"Action\"}, {\"id\": 80, \"nam...</td>\n",
              "      <td>http://www.thedarkknightrises.com/</td>\n",
              "      <td>49026</td>\n",
              "      <td>[{\"id\": 849, \"name\": \"dc comics\"}, {\"id\": 853,...</td>\n",
              "      <td>en</td>\n",
              "      <td>The Dark Knight Rises</td>\n",
              "      <td>Following the death of District Attorney Harve...</td>\n",
              "      <td>112.312950</td>\n",
              "      <td>[{\"name\": \"Legendary Pictures\", \"id\": 923}, {\"...</td>\n",
              "      <td>[{\"iso_3166_1\": \"US\", \"name\": \"United States o...</td>\n",
              "      <td>2012-07-16</td>\n",
              "      <td>1084939099</td>\n",
              "      <td>165.0</td>\n",
              "      <td>[{\"iso_639_1\": \"en\", \"name\": \"English\"}]</td>\n",
              "      <td>Released</td>\n",
              "      <td>The Legend Ends</td>\n",
              "      <td>The Dark Knight Rises</td>\n",
              "      <td>7.6</td>\n",
              "      <td>9106</td>\n",
              "      <td>The Dark Knight Rises</td>\n",
              "      <td>[{\"cast_id\": 2, \"character\": \"Bruce Wayne / Ba...</td>\n",
              "      <td>[{\"credit_id\": \"52fe4781c3a36847f81398c3\", \"de...</td>\n",
              "    </tr>\n",
              "    <tr>\n",
              "      <th>4</th>\n",
              "      <td>260000000</td>\n",
              "      <td>[{\"id\": 28, \"name\": \"Action\"}, {\"id\": 12, \"nam...</td>\n",
              "      <td>http://movies.disney.com/john-carter</td>\n",
              "      <td>49529</td>\n",
              "      <td>[{\"id\": 818, \"name\": \"based on novel\"}, {\"id\":...</td>\n",
              "      <td>en</td>\n",
              "      <td>John Carter</td>\n",
              "      <td>John Carter is a war-weary, former military ca...</td>\n",
              "      <td>43.926995</td>\n",
              "      <td>[{\"name\": \"Walt Disney Pictures\", \"id\": 2}]</td>\n",
              "      <td>[{\"iso_3166_1\": \"US\", \"name\": \"United States o...</td>\n",
              "      <td>2012-03-07</td>\n",
              "      <td>284139100</td>\n",
              "      <td>132.0</td>\n",
              "      <td>[{\"iso_639_1\": \"en\", \"name\": \"English\"}]</td>\n",
              "      <td>Released</td>\n",
              "      <td>Lost in our world, found in another.</td>\n",
              "      <td>John Carter</td>\n",
              "      <td>6.1</td>\n",
              "      <td>2124</td>\n",
              "      <td>John Carter</td>\n",
              "      <td>[{\"cast_id\": 5, \"character\": \"John Carter\", \"c...</td>\n",
              "      <td>[{\"credit_id\": \"52fe479ac3a36847f813eaa3\", \"de...</td>\n",
              "    </tr>\n",
              "  </tbody>\n",
              "</table>\n",
              "</div>"
            ],
            "text/plain": [
              "      budget  ...                                               crew\n",
              "0  237000000  ...  [{\"credit_id\": \"52fe48009251416c750aca23\", \"de...\n",
              "1  300000000  ...  [{\"credit_id\": \"52fe4232c3a36847f800b579\", \"de...\n",
              "2  245000000  ...  [{\"credit_id\": \"54805967c3a36829b5002c41\", \"de...\n",
              "3  250000000  ...  [{\"credit_id\": \"52fe4781c3a36847f81398c3\", \"de...\n",
              "4  260000000  ...  [{\"credit_id\": \"52fe479ac3a36847f813eaa3\", \"de...\n",
              "\n",
              "[5 rows x 23 columns]"
            ]
          },
          "metadata": {
            "tags": []
          },
          "execution_count": 10
        }
      ]
    },
    {
      "cell_type": "markdown",
      "metadata": {
        "id": "aVFDVpgE5r9F",
        "colab_type": "text"
      },
      "source": [
        "**Features selection**"
      ]
    },
    {
      "cell_type": "code",
      "metadata": {
        "id": "LEfS2ijw5vI9",
        "colab_type": "code",
        "colab": {
          "base_uri": "https://localhost:8080/",
          "height": 725
        },
        "outputId": "90952d46-730a-450f-d1d4-352d9d35bdbd"
      },
      "source": [
        "movies_cleaned_df= movies_df_merge.drop(columns=['homepage', 'title_x', 'title_y', 'status', 'production_countries'])\n",
        "movies_cleaned_df.head(5)"
      ],
      "execution_count": null,
      "outputs": [
        {
          "output_type": "execute_result",
          "data": {
            "text/html": [
              "<div>\n",
              "<style scoped>\n",
              "    .dataframe tbody tr th:only-of-type {\n",
              "        vertical-align: middle;\n",
              "    }\n",
              "\n",
              "    .dataframe tbody tr th {\n",
              "        vertical-align: top;\n",
              "    }\n",
              "\n",
              "    .dataframe thead th {\n",
              "        text-align: right;\n",
              "    }\n",
              "</style>\n",
              "<table border=\"1\" class=\"dataframe\">\n",
              "  <thead>\n",
              "    <tr style=\"text-align: right;\">\n",
              "      <th></th>\n",
              "      <th>budget</th>\n",
              "      <th>genres</th>\n",
              "      <th>id</th>\n",
              "      <th>keywords</th>\n",
              "      <th>original_language</th>\n",
              "      <th>original_title</th>\n",
              "      <th>overview</th>\n",
              "      <th>popularity</th>\n",
              "      <th>production_companies</th>\n",
              "      <th>release_date</th>\n",
              "      <th>revenue</th>\n",
              "      <th>runtime</th>\n",
              "      <th>spoken_languages</th>\n",
              "      <th>tagline</th>\n",
              "      <th>vote_average</th>\n",
              "      <th>vote_count</th>\n",
              "      <th>cast</th>\n",
              "      <th>crew</th>\n",
              "    </tr>\n",
              "  </thead>\n",
              "  <tbody>\n",
              "    <tr>\n",
              "      <th>0</th>\n",
              "      <td>237000000</td>\n",
              "      <td>[{\"id\": 28, \"name\": \"Action\"}, {\"id\": 12, \"nam...</td>\n",
              "      <td>19995</td>\n",
              "      <td>[{\"id\": 1463, \"name\": \"culture clash\"}, {\"id\":...</td>\n",
              "      <td>en</td>\n",
              "      <td>Avatar</td>\n",
              "      <td>In the 22nd century, a paraplegic Marine is di...</td>\n",
              "      <td>150.437577</td>\n",
              "      <td>[{\"name\": \"Ingenious Film Partners\", \"id\": 289...</td>\n",
              "      <td>2009-12-10</td>\n",
              "      <td>2787965087</td>\n",
              "      <td>162.0</td>\n",
              "      <td>[{\"iso_639_1\": \"en\", \"name\": \"English\"}, {\"iso...</td>\n",
              "      <td>Enter the World of Pandora.</td>\n",
              "      <td>7.2</td>\n",
              "      <td>11800</td>\n",
              "      <td>[{\"cast_id\": 242, \"character\": \"Jake Sully\", \"...</td>\n",
              "      <td>[{\"credit_id\": \"52fe48009251416c750aca23\", \"de...</td>\n",
              "    </tr>\n",
              "    <tr>\n",
              "      <th>1</th>\n",
              "      <td>300000000</td>\n",
              "      <td>[{\"id\": 12, \"name\": \"Adventure\"}, {\"id\": 14, \"...</td>\n",
              "      <td>285</td>\n",
              "      <td>[{\"id\": 270, \"name\": \"ocean\"}, {\"id\": 726, \"na...</td>\n",
              "      <td>en</td>\n",
              "      <td>Pirates of the Caribbean: At World's End</td>\n",
              "      <td>Captain Barbossa, long believed to be dead, ha...</td>\n",
              "      <td>139.082615</td>\n",
              "      <td>[{\"name\": \"Walt Disney Pictures\", \"id\": 2}, {\"...</td>\n",
              "      <td>2007-05-19</td>\n",
              "      <td>961000000</td>\n",
              "      <td>169.0</td>\n",
              "      <td>[{\"iso_639_1\": \"en\", \"name\": \"English\"}]</td>\n",
              "      <td>At the end of the world, the adventure begins.</td>\n",
              "      <td>6.9</td>\n",
              "      <td>4500</td>\n",
              "      <td>[{\"cast_id\": 4, \"character\": \"Captain Jack Spa...</td>\n",
              "      <td>[{\"credit_id\": \"52fe4232c3a36847f800b579\", \"de...</td>\n",
              "    </tr>\n",
              "    <tr>\n",
              "      <th>2</th>\n",
              "      <td>245000000</td>\n",
              "      <td>[{\"id\": 28, \"name\": \"Action\"}, {\"id\": 12, \"nam...</td>\n",
              "      <td>206647</td>\n",
              "      <td>[{\"id\": 470, \"name\": \"spy\"}, {\"id\": 818, \"name...</td>\n",
              "      <td>en</td>\n",
              "      <td>Spectre</td>\n",
              "      <td>A cryptic message from Bond’s past sends him o...</td>\n",
              "      <td>107.376788</td>\n",
              "      <td>[{\"name\": \"Columbia Pictures\", \"id\": 5}, {\"nam...</td>\n",
              "      <td>2015-10-26</td>\n",
              "      <td>880674609</td>\n",
              "      <td>148.0</td>\n",
              "      <td>[{\"iso_639_1\": \"fr\", \"name\": \"Fran\\u00e7ais\"},...</td>\n",
              "      <td>A Plan No One Escapes</td>\n",
              "      <td>6.3</td>\n",
              "      <td>4466</td>\n",
              "      <td>[{\"cast_id\": 1, \"character\": \"James Bond\", \"cr...</td>\n",
              "      <td>[{\"credit_id\": \"54805967c3a36829b5002c41\", \"de...</td>\n",
              "    </tr>\n",
              "    <tr>\n",
              "      <th>3</th>\n",
              "      <td>250000000</td>\n",
              "      <td>[{\"id\": 28, \"name\": \"Action\"}, {\"id\": 80, \"nam...</td>\n",
              "      <td>49026</td>\n",
              "      <td>[{\"id\": 849, \"name\": \"dc comics\"}, {\"id\": 853,...</td>\n",
              "      <td>en</td>\n",
              "      <td>The Dark Knight Rises</td>\n",
              "      <td>Following the death of District Attorney Harve...</td>\n",
              "      <td>112.312950</td>\n",
              "      <td>[{\"name\": \"Legendary Pictures\", \"id\": 923}, {\"...</td>\n",
              "      <td>2012-07-16</td>\n",
              "      <td>1084939099</td>\n",
              "      <td>165.0</td>\n",
              "      <td>[{\"iso_639_1\": \"en\", \"name\": \"English\"}]</td>\n",
              "      <td>The Legend Ends</td>\n",
              "      <td>7.6</td>\n",
              "      <td>9106</td>\n",
              "      <td>[{\"cast_id\": 2, \"character\": \"Bruce Wayne / Ba...</td>\n",
              "      <td>[{\"credit_id\": \"52fe4781c3a36847f81398c3\", \"de...</td>\n",
              "    </tr>\n",
              "    <tr>\n",
              "      <th>4</th>\n",
              "      <td>260000000</td>\n",
              "      <td>[{\"id\": 28, \"name\": \"Action\"}, {\"id\": 12, \"nam...</td>\n",
              "      <td>49529</td>\n",
              "      <td>[{\"id\": 818, \"name\": \"based on novel\"}, {\"id\":...</td>\n",
              "      <td>en</td>\n",
              "      <td>John Carter</td>\n",
              "      <td>John Carter is a war-weary, former military ca...</td>\n",
              "      <td>43.926995</td>\n",
              "      <td>[{\"name\": \"Walt Disney Pictures\", \"id\": 2}]</td>\n",
              "      <td>2012-03-07</td>\n",
              "      <td>284139100</td>\n",
              "      <td>132.0</td>\n",
              "      <td>[{\"iso_639_1\": \"en\", \"name\": \"English\"}]</td>\n",
              "      <td>Lost in our world, found in another.</td>\n",
              "      <td>6.1</td>\n",
              "      <td>2124</td>\n",
              "      <td>[{\"cast_id\": 5, \"character\": \"John Carter\", \"c...</td>\n",
              "      <td>[{\"credit_id\": \"52fe479ac3a36847f813eaa3\", \"de...</td>\n",
              "    </tr>\n",
              "  </tbody>\n",
              "</table>\n",
              "</div>"
            ],
            "text/plain": [
              "      budget  ...                                               crew\n",
              "0  237000000  ...  [{\"credit_id\": \"52fe48009251416c750aca23\", \"de...\n",
              "1  300000000  ...  [{\"credit_id\": \"52fe4232c3a36847f800b579\", \"de...\n",
              "2  245000000  ...  [{\"credit_id\": \"54805967c3a36829b5002c41\", \"de...\n",
              "3  250000000  ...  [{\"credit_id\": \"52fe4781c3a36847f81398c3\", \"de...\n",
              "4  260000000  ...  [{\"credit_id\": \"52fe479ac3a36847f813eaa3\", \"de...\n",
              "\n",
              "[5 rows x 18 columns]"
            ]
          },
          "metadata": {
            "tags": []
          },
          "execution_count": 12
        }
      ]
    },
    {
      "cell_type": "code",
      "metadata": {
        "id": "Z9W3c-737K7A",
        "colab_type": "code",
        "colab": {
          "base_uri": "https://localhost:8080/",
          "height": 451
        },
        "outputId": "255be138-ab6a-4367-baac-f9bf9d28ef85"
      },
      "source": [
        "movies_cleaned_df.info()"
      ],
      "execution_count": null,
      "outputs": [
        {
          "output_type": "stream",
          "text": [
            "<class 'pandas.core.frame.DataFrame'>\n",
            "Int64Index: 4803 entries, 0 to 4802\n",
            "Data columns (total 18 columns):\n",
            " #   Column                Non-Null Count  Dtype  \n",
            "---  ------                --------------  -----  \n",
            " 0   budget                4803 non-null   int64  \n",
            " 1   genres                4803 non-null   object \n",
            " 2   id                    4803 non-null   int64  \n",
            " 3   keywords              4803 non-null   object \n",
            " 4   original_language     4803 non-null   object \n",
            " 5   original_title        4803 non-null   object \n",
            " 6   overview              4800 non-null   object \n",
            " 7   popularity            4803 non-null   float64\n",
            " 8   production_companies  4803 non-null   object \n",
            " 9   release_date          4802 non-null   object \n",
            " 10  revenue               4803 non-null   int64  \n",
            " 11  runtime               4801 non-null   float64\n",
            " 12  spoken_languages      4803 non-null   object \n",
            " 13  tagline               3959 non-null   object \n",
            " 14  vote_average          4803 non-null   float64\n",
            " 15  vote_count            4803 non-null   int64  \n",
            " 16  cast                  4803 non-null   object \n",
            " 17  crew                  4803 non-null   object \n",
            "dtypes: float64(3), int64(4), object(11)\n",
            "memory usage: 712.9+ KB\n"
          ],
          "name": "stdout"
        }
      ]
    },
    {
      "cell_type": "markdown",
      "metadata": {
        "id": "5NAYQJd9Aji9",
        "colab_type": "text"
      },
      "source": [
        "**Using Weighted average for each movie's Average Rating**"
      ]
    },
    {
      "cell_type": "markdown",
      "metadata": {
        "id": "3ZMAsng8An5D",
        "colab_type": "text"
      },
      "source": [
        "![law.png](data:image/png;base64,iVBORw0KGgoAAAANSUhEUgAAAXAAAACZCAIAAAC5R/aWAAB9fklEQVR42u1dBVxVSdvn3W/fd1vXtQuR7gYBSRGku0UpMQCRMMBCwG5EEQQFBEURRAUEAWkEpLtBuvsCt883cw4gGLu4y4bu/e9P9tw5c6bnP8/MPPMMHUIDDTTQME+g+7sTQAMNNHw5oBEKDTTQMG+gEQoNNNAwb/gSCIVEIhFQEIlE8ExEQaFQ/prYqVQqFikJBRUFmUz+u0uFBhr+BnwJhPIxgI79Z0fxPnH8ZURGAw3/QHz2hAI6cFBQkIeHx7Fjx86fP+/t7Q3+nj59enBwEPmTOQXjjvHx8evXr589e/bq1asgduAyNDSUlpaG0MiFhn8fPntCAZSRnJwsJCS0ePHiR48ePXv27PHjx5aWlgICAu3t7dgE5M+IFyOLe/fubdy48eLFi5GRkSDq8PBwFxcXDQ0NQGrgLZgH/d3FQwMNfyk+b0KZJgtubu7Lly9Puw8PD69cudLc3BxBez6JRML6P/APOvmvUwyQOLq6upCPSzfAHQvNzc1t1apVqampM98CaeWXX36pqakBfggEApgTYUsqACAZWHqwZ5r8QsOXh8+bULA+CXovHR1daGgoHo8fGBgALiUlJV9//TWYB/2O0DIyMqytrcEDoIMPesOIxsfH58cff8zJyUHQlZRpjnjz5o20tPT7/jFgnEIDDV8qvgRCefnyJZAU+vv7McfOzk4wDQHzDqwn19fX3717F5AOeAZ0ExAQ0N3djXxIAJkmlJ07dyIfJxSAvr4+QGFHjhwBz4DFZr4C0s2ZM2dA4M3NzWAKlp2dDRzj4uLAnCgqKgo85+fnP336FMyVOjo6kL9k5ZgGGv4yfN6EgsHR0ZGFhSU8PPzGjRs7duwAPwFrYK9qa2v9/f13794tKysLfra2tgIiAD6R2Sum2CwGm56kp6cDQgEPgCkw95l9Hvtq7969YEoFKIOCYmZiQCDYenBgYODVq1fXrl176dIlQCjPnj0TFBR0cXEB7s+fP7eysjI1NUVoMgsNXxY+e0IBvR2wibm5eUNDQ0VFxYMHD5YsWVJWVgbccThccHDw6Oiom5ublJQUtkC7a9eu+Ph45ONbMIWFhXZ2dh+LDtsnXrduHR8fH/LetvE09RQVFQHaAm8XLVoEhBHMERCKvLw8xiARERHCwsLIr8pBNNDw2eGzJxTAGt999920SAJAT09/4MAB0LcBlfT09IAOzMHBAWQE7O3NmzfBpAOZQSig2xcUFOTm5ubk5Lx+/RpINNra2uAhKysrLy/v1atXYA6FTJEFxiAMDAyAGjChZjpezENVVRV4APMv8MrX11dAQABBxRAikbhixQrAI9hPAwMDdXV1EAJtJ4iGLwmfMaFgHfjp06dr1qx58+YNJoD09fV988032HLs2NgY+AskhQULFoDJDoKyD5hxAFkGmSFNAEdLS0t9fX1DQ0MjIyPAFExMTOABuJiYmKioqERHRyNTcxOMQYAHZWVlbP8ICwRzBwQESGQ6hWpqajo6OtgzkFmYmZmHh4exeMGzj48PQtNVoeHLwrwRyvuLi3/2ciPWFbdu3QoEEGSqw7e0tNDR0WEKZiMjI+DvqVOnZGVlMUEgPT394cOHyK92YyBiODg4/HqkYIbFzs4+/RPLKeCyo0ePYmvDWGLAtGiaX1xcXISEhLDnxMREIEYBDgLiT319/V9QVjTQ8Nfgr5NQ5r3PYEIBCwsLEBYwBRPws6mpCRDK7du3EXR2A/6eO3dOVFQU9PyBgQHQvTFZ5h1CAd8SCISJiQnwNyUlZceOHeABSC7YEaH39eu7u7s5OTnt7e2xZIAAAS94enoCMpp2KS0tXblyZW9vL5ZxSUlJbK0XPG/fvl1JSQl84uXlNTQ0hPn/yyqCBhr+PPwhQsG6JejDGzduXL58uYiIyJkzZ4BLQUGBpqbmihUrWFlZQ0JCMM9hYWGMjIz8/PwxMTF/MNFYD09KSlJUVARhAmEB4w7snJ6trS2YsAAewaY2oMfu3r0bdH4gtpSVlSEfF08w98zMzD179iAf13PFOj/gFOAN8IK1tTWI0c/PD1OBmT4ZGBERAd5OkxeYOhUWFmIh5Obm6urqgnlZY2MjQpv10PAF4Y9KKJhs//LlSyAXTO+egF7U2dn5v//97+LFi8hUzwQd+9ixY0VFRe8LCH8lfkUWwFIFJBQwjUJ+df/lV5Ro5x7dHD3QQMNnhD9KKNhoXFJSsnDhQmyigbkAivnmm29OnDiBTBFKQkLC9B7HPGbg/dM6v3s1B/PW3NyMrcL+ugmCuZwSmunhnWcaj9DwReKPEgo2qre1ta1fvx7bWwFdZWRk5MqVK0BmcXZ2xvyMj4+DOQgQUjCLIX93rmmggYY/BfNDKIBBeHl57ezssLE3NDS0tLR0xYoV2PE8BFUbff36NfKR9QIgwnR/HF1dXX+lsga2EPOXRUcDDV8S/iihTEvvUlJS6urq4KG6uhoQCngAhGJgYAAYpLOzE1M8+9jxmfLyciUlJUVFxS1btijOBnAHIWMncWaSEXaW9wsAbUWWhi8J87BtjIkPGhoa/Pz8Y2NjERERgCCAy5o1awBBIOjGLaadQZvs0EDDl415IBTsuC0QRjg4OACVXL16FXMXFBTU19evqqqKjIycmJiYLzbBhvSKigo9PT1DQ0O9zxZGRkbgb1ZWFvJbC8A00PC5YB4IBdteNTc3/+mnn3x9fYEwgq1B6OjoCAkJAYGlpaUF+Yh4Ms0OysrKSii2zAD4qaKiIiMjM3PKg4UDYomOjo6NjY3+bIElvr29HaHJbjR8KZg3QrGzs6OjowOdBJnq+fv27fu///u/pKQk5Le2ikEIHR8H6HK0E3Q00PBZYN4IZefOnVJSUsiMwdbJyQkIF8iUqtv8phvTjvsCQJNNaPiSMA+EgskjqampYGozs3vk5eXl5uYiNNVyGmj41+AzNl9AAw00/NMwb4RCJpPfN4b4D9m8mGn4/jdtGo2Njf3mQikW4LRFe+zOQGSGtWraRIaGfydoEspbYIyTnp5uZWWFfLpxRpp+LQ00/CsI5fXr14GBgZjRtvr6+hs3bnxQSJmL1XtMM7iqqur27dvV1dUjIyNPnz4NDg7GNrMSExMfPXoUGho6NDSE0DaDafj34UsmFGzClZKSAnq4qqoqdrAI9Hk6Orq6ujpkRofHNlywaRGQUKytrcEDHo9/fyMGIx0vL69Tp04xMjIGBAQkJycDthIQEHBzc4uIiIiPj1dWVnZ3d0doNwfS8O/DF0somCjR3d0Nejv4qa6uPm02SVtbG9O1+yCKioo+ZvUeY5OEhISsrCwgnvz000/AM4LqCoPnAwcOYN5cXFy2bduGvHdlDw00fPH4YgkFw9jY2OjoaFNT05o1a7ClVgAgPkzfCoagax/Z2dlgpgNkE/DXx8dHQ0MjMzMTiDbY37a2NmTGMcje3l7wd9euXSYmJggqB1VWVi5atAiz/wii4+PjO3LkCPBMuyKDhn8bvnBCwRZKgcjAysqKoKQAqARQBg6HQ6amPOB5586dgB22bt1qamqqqKjIwsICRAzgYmZmpqmpian/zlxzBc/s7OyY+SiA4OBgCQkJ7Lmrq2vJkiWAiRDaCR0a/n34wgkFkxF0dXVtbW0xl5CQEOx60I+tmIK5jKOj468HC+YyQOTBzvUBqKqqYtcAAly4cEFMTAw8REdH085Y0/Bvw7+CUIyNjYG4gc1Nbt26hV2vMbOfz93qPfZVeHg4GxsbtogLXFavXo1dsgMgIiJy8OBBIKGEhobSzJ3Q8G/DF04o02ZiwXTm8OHDvr6+v3JF+Vys3mN+zp8/b21tjYUDWENBQQEjKYBnz54Bgcjb25u2c0zDvxBfOKF8EuZu9Z4GGmj4IP4thEKdwq/7AX9bW1uxi5B/ZUn1naBmzmvmEhENNHyp+LcQCg000PAXgEYo72L66j8aaKDhU0EjFBpooGHeQCMUGmigYd5AIxQaaKBh3kAjFBpooGHeMHdCoVKgUTa4G/qbl5PPfPd3Z5AGGmj46/ABQqGSySR0mwNQCJFEpgIHaCtkIibw4tX7SUQikUwkkijUSb/AB2YPEeUOCnw3yTsUMnDF/qD36QBvRBKNYGig4QvGXCQUKraJ6rZd1+TIs1kv3vFH/ZV3f3dGaaCBhj8fswiFQoTUUeHtYeXoO4Eg+U8uaO461o8gfWVRO3ceO+tuu5KFW05ZQkBA0uFxMfyA2OmlocTPyycsZRJaPIAgI/ePGeuYbRcx86gmIem+9kL8/AJCEl4P8oHfjvT7O/QditFzeRTaVIgGGr5EzCYUEjwON5jsuZrdpKybEOHMTvcVz5NWpMhLW9DaN+SMwX9+EQt+VR5xcedCDrkWhBqhJblezqVheDjliNlS/j3lQ8MnxOiW80vHlPfmhx1k5tDOaBpqSDrDslwmoXFisDLayf5ExTBCIxQaaPhSMXvKQ6WgixxNqvwaj5JfXTNYsnq5ROCjfG9pvluvKryct+sfCAWvB0vDVblkWsn9SgLLpc0O3XsYGQgo5muRkJTiyyb8V16PgYCuqnIskLEICA17cOfykgXfOIcX/d05pYEGGv50vLOGQiUT4QLq/d2CkhtlzRUvxwedMxAWY+XR6x4fvmBvabT/PpVKbXkVJMe7uQXftVl01SZtI0sLi90AB68U1VZ7awlEdyBUKs6Ng4NFWsva0txil43tbtf48t6/O6c00EDDn453F2WBjAL+die50dHRsboWIJ0xbP+lW6AVCBxP79mq7wQllNbsIGlWiWYqwVVg7caT8cAF/zJQRce9srX1qgb34xZISUlO8mxyp2CIhNgd6pppLcTxrsKwu1EdYwjNSAgNNHypeG+Xhwq3fKlDxUrc7Gczu6mUTh1Zlr23MwAFXHC0MT/yBHjpznu0XVS+jIpMVLxQXruehZ19zTKePX6vcISe6zqisV0wGCK++pDGcnoWdubVC/X3eg3iqY1xV8T41LMHYBxkCo1RaKDhC8THt42npIhpaWKWlY/pR8JQU9ObAdykLSLqLKYgtr9p7OjFTb+CBhP/7gzTQAMNfx7+kOr9rKnLO9OYX1NKoYEGGr5MzMNZHprqPQ000ICBdjiQBhpomDfQCIUGGmiYN9AIhQYaaJg30AiFBhpomDfQCIUGGmiYN9AIhQYaaJg30AiFBhpomDfMD6GQp4DdoYddbYOB+lbjlvqOCw000PCF4d8ooVApf9QeC5X6sTMEVNrpAhr+zfhDhILJI01NTZs2beLg4Ni4ceO5c+eAS2FhoZ6eHicnJx8fX2hoKOb5wYMHPDw8GzZsiI2N/evyR+vdNNDwF+KPSigkEgnQytOnT+no6CIjI8fHxymozeqampqvvvrKw8MDj8cTidAQXF9fn5OTU3JyMoFAmHm7+PvA5kQ54VcD7uehv5GSB0HevtHYKcOOgsdXzkcMIVQSiUgE/wgE1ITLQOBFz7jiRuCbRMBDZ/wEnkCijreG+fqlFfUSCCTokQqt0nXUVPUM4SjQQh0GaHQbi5oMPiaCILvCb91Mr+pAUEvd4G9/ZfL5M0cOuLl7ergfcHHzj0waQ814k4jgPzQEaD2TShwbqKjsJpNxT26dv/+yAHxMmBgnEAnQBzT3jX4CPRMJ8A+RRnc0fGH4o4SCXQNcWlq6YMGCu3fvTru8fv36u+++O3nyJHjGCCUtLe3hw4fIlFwzCSo8gjwD6DUdaB9+4b5xBf3eAcgnQ2brFtLRMRZB85FIuBE/I5vb6CxGAl8N+V10iC2oeJepxjPUhaSuxUz1XNQg3SGOtQE5fSAhMz2iVhumXaj6UtLuYa+hOxEP/jY/2ffTEjZtByeXAwe3btVf9z2dTUA2Mnt2A38NpaxYZTmGIM9uudxNSHu3sD4+U6KBhi8Df5RQMHZobW1lYGDA6AO4TExMXLhwAcgs+/fvR1CJA0gl58+f7+3tndOiLOphsDyck00waxxB2qPZJCQ4BBc6xPcgyKieIIPDQyC5jASd3qOqpGxi5V4zBLyPPgwOf1UDDWUHu5tpqGlv27nLyfXh0GCtnaGUmKqxsZ6awc6D7QiSHniaeckiYVWzKjLSHXvXXFNNVcP4bHQFFnNBpKu2ps42C2MWenG/uFqYHRK0zPAmxoFLM3A6gSme3Cvkr4KHeF8PXVVlFS2js7dKEaTHfa/Gop8XO3tej45PSMh+gx8o23/A9tARY1VVTcsrz/rhpyP3Lh3U0tA0d7ty++yVNwS0wGgsQ8OXgvkhlOHhYR4eHnt7e8zxwYMHBQUFy5cvt7S0xFzCwsKAhILMFE9Q1sC1lcXFPouOiQWIiY6Oe5E5iG4TwX9DZcYL15ytQLqum6nYn7t9fY+QcTiC5HKtlXpS1vH0ghmfhGVS8stDmvwbVLzBjEqOXeTUo/xEL0n6NbKhTyNMF/2Pjm5L2+iAg8zPK4XVw6MeGkpw6Do9bSlJE1n6s9GZwMaUKNmfOW0Dnr8M8GBeJHShkEp8fZB1AcORm+GXHRS/pvvpdmo7TDARdvrmmCOM620yyyqryssK0p7q8Syzf1Q1Gn2HeamoZ+zLRK+D3D/LRHWOZYW4/rSILyop3lJN0fxkHLH1AWBV7t2nnoae/O+SNSFlXQm+dkvYxO9EPrHREFiwgiUP2q+bnAvRQMMXgD9KKNQps0uSkpLa2trgoa6uDsx9gOPKlSsNDAwAgwwODt64cQOZbeiAis4v2rOCpSWERQBERUWERWQ3u7XC6RE29xg7Zyq37eJr/53Kh2+8qMt/yCdhVJnuIahoXlJfY8y+RN4jsqWp/mnAAbqfOOrG+y22aF8MeWghwHY9B17VQa54yM5p3t5bvF1V8fQTaNE25fZhbhk38ODIyxpe0RNz2exnbpWEsuY3ZS8MuZg0Dkff2iWtvu8emrpWLfHNFx+XIVMSSvuLc8sWLmXlAuDmZKX/mu67iLoxZKjjRXxiZklptPch/uW8QQ2AWRPXMZuAOdJhE/39N9JHGiKYOHUaYYDkfaI8/nHxh9Tkd3pWgt/DFc/UecVfj8NXNEKh4YvBPGwbY0skampqAgICYLLz9OlTIJ4Al9WrVyspKYGHixcv9vSA2co7llPg80R/y6vM3JzcXPAvJz/nVU7NOMol2CwgOeiCOK8Sj6R5YFYf0lfmKi6yZbOw1cmb3a1Fiv9ZwC2nICEhvklJS9/ibDepc+tmrTP+t7eKSiYPIvhxAtKfwMFr3tqVv11D68zjHgqZ8vSGi4iSJ5VCteJlDsoou3vFYgUzi6qclKSMrKqG4Z2UVy7qMm6hqVTiBBlpM5ZTO/8I3j00OeWJdmDdcmF8MuX9B4WZbIJLOkoiRPnZxMTFFeRkeEU2hNeRKe1P6RkN+8nD+410Hb1TB+siWLnN+6DJy95d4sI3wkL2Gkl5ZVMIExOjrSW2nCLpNEKh4cvCPBAKHg+XLYEwAobv6urqS5cuYe58fHx6enoNDQ1gBjQ2Nvbujcjo3Kc55ZbCZiV1TS0tTS11HSUVLdfGCfgWW1fA1cSJ0tH9uNm+CnY8gu9xBTq6/116XI4Q+mwYV+++B+UOUoWXnd01BBk0lFP3iog5ILrU0A0upsacsFy81Kh7sMRMTfXMI7hfE33jkIiyJ3jYxsIUVNKXeXXnClFTdOeI6mW7727hULSTKPOGI3AW0ha/YR27d1w98nYNxZFd/gIO5IEEb2H1M2LdGZh+yVmVxcgDBlAauoGH9zGYIbU9WsWsN4KQXY11nK6nDtVFsnJv74Y++iyE+ULTctyMBeV2BoLfWb6669iFi2mEQsOXhXkgFAIBdjkzM7OFCxcGBAS0t7djGz2ampri4uKRkZGNjVDq/+BWMWl8pLe/px9ioL+vt39gANtKxfZDqPg35hyL5Pf6kYA4Q0UKbx+g+0bwQTX0Uhx9lH/lYknJjfQ/fL3rfAIV6VEVUToXVdVbFabMzSUtKybBTLdopWlHb5mhjrp7TCcIM+rqAW5Z2P+vaa1kEJTNq28+KC26il9iIxfzL/zm6S0kpO+lAeMybjE5DRWe/3zL6xODLsqiayhNT5zWbjmLQ7MB0hV1UGm95LmcdD/utUs2bpTcoK7DzbxIzTUAP1LMRPe9ua2z9TZzuwspAzUPVq83Rwll0I6d3ju5oas6XmEjj4SM9Ib1dMv5xIpohELDl4V5IxRbW1tMFQWZ4o69e/d+9dVXcXFxCKqu8rvCpgz2dvYNjk3+wA03t/WMUScXbTsbixLiXxRWoh0WIfZ09Q6N4fKTImLTM6praooTTqxnO95HIvb19w3hYXrGRwY7u+HOM3G4pbioGG4NjXXlpia+zMzvJU7lZbgxPSmxsLq+rWtoBAclL2zxmDQ+1N47PN3xwc+21gHABc0VeQlJyTXdI0MdtRW1b0A0nXVVldUNvf2DA8N4CmmsvX0AvRmaMtTRPjyOK32VGBGfU1VTkxN+UWy9eOEEVEyhEQoNXwzmjVB27tzJz8+PoGyCzW4cHBw2bNiA7RN/dKt4Ug8FesD+P8dIZ6/GvJV9Il05uUUk/G57CfLzW99M+fUwZv5AJaI/u2dTn1yzZt6g5B3sp7ece+uu5zBeEuUPB0sDDf8UzAOhYBOcmJiY6urqme6pqalJSUnTHn4fZnPRez9mvJ56ouQlPHB1dn74suK9b6YeqbMeqO/4eMfpQ1FPh0Cdjdkukx4nv5hUN6FWpjw85rr/1vOCP17yNNDwT8OXdjhwZrcnU/5xg/8sQqTJJjR8cZg3Qpm2XTDT5Y/IJr8XVDIZHvAhkf+Z3ZVKIcPDPCTaygkNXyK+NAmFBhpo+Bsxz4QCRBL0GC2RRJo+yUv8PCwqofafPjGlf9HlqnAT/R9chNTfmz7sPOh8pWEei+hjoVHnv8J/T4iTBn1mH6ydwwm5OdUStj3yu/PzF0konwen0PBZYtY6/Sd//N7q+1xe/XlZ+Nwxn4QCiM3Dw0NVVVVSUnLHjh0ODg7W1tba2tr5+fnInCsbBIKuxpAhcaNSA2VK1Y2MLougThTUnTrpjnoHv6iTn75dzaGiPoHDtPSBBT1TGMG2ZMZ6qgO9A4o6RicjRYOZjACNbZreJwMHfD/SkZmZ2zFEmAx/OsapD2bmi0qZYSZzKpEzszY9XKMhzHgx0Zebmd7UA1VWyKj1mamszwz8bc6pk4kkUz7kdVbxzgwBSwP6D/vkrTUJNEHItKFPLGSs1EnQHkRPdUFafj0J+3ay5CdTNKPYJ/M+XeoUKinv+YPgiAwC8AtEWuwddUbCkUmx8W2ZUSjvCTVoeKSxN3W17X0TyIytf+qUMgFsGNTJUD8sDRDwwyMTWNF/NDT0y/6SpJjMKjR509mdWWYz8j0V09uqIU/Z5pguZwqVgOtMiHg++AmWLaCvssTI3OaRwbaKxOfP41+8eBH3/HlCWnMf8d22QKVOUxWVPF6Wm1raNAjek0jk6QY3s21Cmz1kSmd1QUpyHun3GtuYN0LB+KKzs1NRUVFYWLipqamlpaW1tfX69es///xzTk7OtJ8P2kCZGcgHC3ESs1d5fy3H1LdN6q3/WSu1k6lB7TMh1w5qLRfeVjZAmqXg8u7KLnZggOgpLRrTiiCDkVIc2gnlM1JPfc/GyhxKbtYn01Q4FRlCznJSVwx+2k+ZmfVZlf3+DveHI3j39MO8jItU6gv9LZyHHsxM2ux++140WCl1vVi6jOHwvcxZ2Z/54+PL6tMkBf6OvclUkeJk5+Bg5uLxTYOnJeC8G35Kctt1+NzD2ne+nZE2KpFAHO7rvbhLa+vRW6gWI4JrylCWnAotvQHB9gqpFCIYL6hdqpt5r8YV/0pRzNaOor6TIeS9DFGIvacdlc3vlMHEkKYZ8CMdBC23icbH63g3tBEpIfZ6Pyxcwqyqqi4tI7KefuESycfFfbNJAOqUtz7cu+fCfZAzn12Sbhdr3k/yO62U3JyoaqIfkj+CNv9PbiLzTCgjIyPLli0DJDLtPjw8zMrKqqamNsdwBpvybnlfvHjNP69xiDTU/iI+7Q3KvKP9b16kJIFRY6Q449bVKzcDo2oGoZG0/uayV7VVCUGhBTUEQnuu//VLl6/dySxvxEIbelMSePP67fjM/NSMtiGogFeTl+R95dKdsNgBAlqjFCpoKm11qZuFhRRM3duG8Aix70XwzTNnL4dn18H6626qKM99+uTJnUxYGYD1y9Ifii1ZaHU5urslQUFRzeVySMBNr4cvstDwkJGO4tveV7z979d146YKBpZMR3l2QvErf2/v4NjMptaK+37eASHRDaMoceA6wvy9z1649rIAJrut7FVeYTfaDckt6blFjc3lpQX1qDJvWdT9yxeu3IvPhyr7b4cfhNRfe9fv6sVL1xNfN6IqyZSGwpfXzp+9cut+N3o2arpd9Dfk+l27eAkUb+3AzIbd2VCcnl8cE+x9zS+kCRYUpbK4uKqpD+aou+l1bjGBMpGTkZKZ+vD6NZ+kvPLm4qTrXtfvxWSCZKUc3SRl6XE/7O7lq3559R1YiI2F8d6XLt9+kDAABztyZUleRk7Sg/t3S1BRCyH23L9qu3SV1JO86sHWqqLS/Ef37j+tG0dIHU9Dr587d+VpKlQjovY3pqUmRdwLuH4rpLi2LS0h/Or1m0l5XVjNwQ5Ixbltk1undhzQQfr1PWys0lV42E1JFGpL1UtZPjZZA5eOUfJYR0XAtQvnrgWUvhmcaq/wz0B94j4t1f/8h073TCBqmmbk2FZZBnU38Jx2bTcbmwwMjQqXBMHLgkBTnh2OLeNIZ21O3POYgBtewU9ymlrrA32u+ITGdw2hfD/ekxDsd+XSjdiS9sk+3VXxwN/r0uWbca9KQJzjbWVpxVXpT/wvX/PPrYd+auMvyyrLl8Jk//rOH7q0QR27tGudwrUM8Nt3q6y4yWXC5FuCkQSTwokn4KmpMMH7ygUv3+CKdhKC77qzQ5BBQiemsrmp8nVpOx4ZqAEJyIq+c+mq36vqZvRbcknKQ+9rNyPi4xOTK0GA4YeUNY+cRVXSP3kvct4IBRtaa2pq6OjooqKiwM/R0VHgkpCQAFwePHiATJEOEdff093Vg6K7q6u3r4eATBlVevNSgHnB5q3Wu4y3rJcxKS2IF/qB2elxB3gZc3X7Qs6dnUUpSgsZN2231BfmXy/vUolHKvxN6RiX8G6wigi4pb3+J3GtHbu2ibKJyGS2UgndmfIb1m7UMVfXUviWji6kYrg8K4iBi93Q0mqTKLO80+UBCkJGhZbSDH+W1UsZeJSLO9uvGSst5FGytjZZ/C2bS0LzeGGg2AK67zgkLO4Xos2QEnv18PIfv5fYdrCuqVqfk+7HdXxWVvos61gvP2snDr42FOaW1bU0VmQT3GBX20uC4iTaHMPM6Om+Z9c1M1nFwbZGUM542zZe5lWyJ0IRyrCjAQ/DRk1ra72VzDz3Xjc9O62ziGvHBIgLVyG3eMnJRw8NFWROveiruXFo7Q/cllZW/ItYtC8mEaeX2XD16mLLeZVMQKmtYt0Q1zAw8iZFWYBNz3aPrvgqXhXzvmlDlg0v+Jh+2rLNepeRIoOodtUwTBh2uvvhEVm65et2WFlu4V28QcebjExYKMibu0eDdyUPT4hzKHTiG9f/TEfHxW9mrMrBsmqD9KZtJqoMq7/xyR2tCdD6L3izZbu5lvA6dqmctuGmLD8xJg4TKysZ5hUaO8JAnTsb89PR/VdSxzTpDZxUIhP1Dmabvvtu6eHAF8UhNqv/R7dG0vRKTsnd3TyM7CrW1kasi1d7RlUSygJ/pKOj36iuJSLMvIJTVEN/q6rU+sXaKV1EIG1CiiWWbJfa7BnUBidH1RnbeAR8UImETKUUvvRlWrWcVVDvdXGaziZGcZ0dO3QlVwkppzUOTzU3ZLSzPj8754C+tMmBqzA0fME2yc0ng9thaFXppryCN+GYQh1DY9qhs2nXpafgyc+CiY7uK23z7Vx0K7k5pJS2W0osWqfjEk3CD91U2sTAr2JlqbNsocjpnCFkrMSM4xeejSY7d6uxc6y5XzzRE72PbskibQNjUyVuZl6T0j5QFIXGurJHH0PuxoSUiZHhns6ObqyH9HR1dfWj8hFahROF6xn5EurhWHXHfPN6rdOjGG0N1JlyszmGvK7Pu0u/eqGRtbWxkhC3+v5RXM1xidU/rxS8Ep/qYrzB0KsZyfX4z5IFKjoGZuqCDOzaJT3jpQ9NGH9etW2H+XrQUelUW0BwVZdZ5ayy2knIp4ux8yyhACphZGQcHBzEHIuLizk4OM6ePYsxDibD18RcYGdhZmFhAZILCzOzmMxhzHYr+DPSXnIr5BHkl57Xa1Ysim7svuGgKbfjGnh9jIvdPaLJ32oDkxY8MYwMZ0os5Tj2pP3Nk0P0K60bwdc9WQF+T+Cxn/Y7gvwcwXnk0tsWy9a7Qs+44k1sLFGlFQfVxBRs70OH1/e4fmJ82Aw+I4+jY/pRU/0Dt/OQnjj6hfyJ6OGhvIs7lkl4NhU+2CIo/LiiF8sCKgNO7OJiCgHC9XCylIjEzVR4Kshrt4GG8+Mcb8MFkodQ4fmN8LqVB8KgOiwFPcf0yE5Qfz+0gBm4R1Fc3R08lIcd3KxoWVN2bxWTaiUaY6itxEbnW32NaUK8zLc6EHKG5y/r7PGjxVvV9P0epWgxLdn1AEpJXeEHf1ikW4IKaDA54y3+t4NQwaBPkmPxsZjClrRby39giwVJpnRFhN+b7kBDrYW3QiNhajqz6VctDC4ZQPse/PKRi76gJDQwjtSGrlimO4iMHzQx3Hc5AThUPL2oJmPcjW/cwMbjlgwlYXMZEVMvOEh679fderW25qbmIgUL2CEQwm4xjkO+j9w0+TYcfgF+j1Xc/fZH1pLBcXcrERnj02OTTQXWNaUukpnNGJRVjb+liJxBKx7BZVwVWMufgOYk1XuHyMa9NWX3efnVy0AKW8I42VaEQAM1LdbCjGdygYhGhe1kuMhIe/PxyBY4+NcmWqgJBVbBsMdQqtxvqHsirKwu9uAyEUesXxzcvErvRhaCSprTM9qHTnpWDpdgaIN5htqbTzxGQ6tJMFcTCoKhkeFRMErNdmnjkwF1VITkbbtZwQ4OkPF7mVdIHoRldt5Ezvp0cda91QuYotCzZfctpVfI3CAR3oT6hrYAmYySoyO9zClsCJd5kn6J8RvopWLDOulbmYBR8Ie0TXZ5xAMn0gRsOzWRblKsTCysnGxs7Gyghyi71EDxBza9idoQHga74g7ILeE2OnTfLeMRlxARFedjXU63QKWwj9JVnRb05CV4250d8vOypfkI0nxmq6LtTThPt1Dcc6OdWuq1bqF2OXqEfjOXgldE7E6R5a7hUFRpDvVgXq9XTwYlWyjFrPXgdReCfPI693wuyoK4t2/fDhjE39/f09Nz8+bNOjo6RUVFCDqtnU7ZWF9LVmbWJF5l5eY1EqdaPLm38Jg+H9P69dIqUouXLw1tIHU9OU6vYPmiPJWfhbMRP+poIbmakYmfg5Obj5uNaeP1hObCh7v51AFHUCY6qp01N7EwM7IyrFrApPSsqve+vcC2m7VUPA4U/2Vh0ZD0nDPmMvTreHg4OTnZOUUkNJIgD1EnSIAphhwM9RyvJvdX3mcTsSEgZBxuYrTuvpCYbcpjn6O21m9gFggUOLkFDx1mXOv9CnDk3mdSstsfF0A1usv7d5sd87lqoLhwPSsnBxsHjyAjM/fZaLi+QkEllFATwavpDUBa8bFUtnMPopKIeXfdDIzs77ttU7K7TaAQcDhCS6g5o4HrGHn4sLrCrquvn26XMzmagZCL9VX1r90KExZby83JCWiYR5hnvah14QDaLaFI3u5nL8PCyCghL7Vy9UKXsFcgyhA3U4aVq9Yzc7reTsZTsUPSCKk7z1V3sniXrVkdVNgzRSjkkGM6invSEDJhuOYJM8fWIQTnbGTkcCmBRCLXxHupSeh3TNSJsSmmt5CIpN5tqvqnQguIRIrvcU9rt5ry62qbTj4hkSfASO5vrnzQ84TWKvoV3DwcLMwcvEL0XGqFg337DfSd/dLhKhaRhBIKtbvgLiOL4QCJnOdmcPhqEHDJu3V0u6ZNH0LC4fC1L2/rKm7Lz/Hhl3ZpJlLIzY/NDzkldyHEwcK9Kjw+hXBSBjvFeJGZusrp8A6orVCfbqkg4osSyjiUYPr3aOm6+sWF7pQ09i5CYAEjicfEeJxCkMmVFCqRABcjb9lqmDmicwdc3jY1lTOPYGiE+jQQmh88TEJGmStDW1nLKwGQ88RFO1X94/lkAjHnzjbN65kUIiH3srHRwYvpL3y+WbJYiJeTlYWVR5BDxswHTxm7ZKXLxsrEtn7t4hU8Z5IH+xIcWWR9iAiJSKnaJKoalNkBhlJXC31Lzyi0qcCuMNHbkJcN+wZAFugqxfXjUNKFrwbSTrDJHW1CjSsHWSrxye9JKyzILygoTLrPz7j2XEItvinBQpaHkYFJRmnDckaOLDK54pqB8t4LeNKwu7n8zhud5MJjjOIXhhAykdKoKa9/5U6Aocim1wRkDDdB7oln5zSoIQLZuFJKWDE0u/XvJ5SVK1c6OztDq+4EQmNj46JFi4DMAtwxI0zY0FSXcFNZSdvQyMjI0EjXRMtg27muKQPR8ed0GfjPwKbflSjFuDoUsCW5aquErqwEu8Sxx6BqnZU5ZJx9YGQjDb7nruV3IhX3d/Bo+IOunrtfdZGaUycIqfWZlKj+8xoky2sLozJqnGU8ZxMzU0T+633yEttcU4ADvrPs6hXvyj5I/HhI96P7TQ2dvdNwzY/XrVDG1vHyL5mtkb1aFh9wzMa6CSSPSpraoW83ZGcLawQj/nM5GeNHcLRErjhabfeMeLFLmU/XG/26+d6Vi5motVtMQrlvKnotEa4LXLdW2Xn0FshxXugxTR3HvMQL9GKm2InpZzbSIrtggjP9XTREOFfxmsU0jFNJ+UbqBj6h0ZvYl55+BT0O5saeuvp4GCYb/mt46rR8pXUzHFWbDARYLrwoaqtOD3sBhaPO7KAfFy95AqVY2CyiT2oxCl8AD8SOuI1M9BFN49OEEuaurWgXBx5Hqh6zcprikDEbLfXdV+GK6asrNmKbtvWN123kVoqrA0PogLmq1vHA1yDMW0fcdh2qqbqtu1rvACp9jDtIcRy9dt+Fk8PEpxSG2/3yyplAMqAnYyPnq0lUdDMJawa9xffZOE0GESTHY6vblVugBusjTogxbSpAzVjFeW1fJePUXO7PL+HQQKBSm59bHTmc0kNFhopslfh9ighwJIDBtOySkzY6DtPZk+YntoonFZo1J03AghnYra3t+bAiP2g7o+ZZrImeklur4/dWQiGhxjICHfSsDlyFsgG1yVpGytgNeuhOvblhNS8aGmrAAl9iIKrmdvcNaMtX96rqHc4EX2bf3q1/IwM8vL681cDFK/uF7yp6nhxU4M276+OT0t4fdmSZoEoq+E0o27pJ4XQcYeLVftbNF3Aw8kp5EdWQrE4KQnQ1MtvtgR7Kx8Ooql/4Gehu0TY0MTbaaqynoLHjzBsoocCKGi3wZlm3u6Ab5vy21Rbpbd7Tve/gZmHfmBRvG5WNeo9gaWRd42NkByJdxTkNmf2gyxBPWirY+HRSit1YZdx74ByqUVNW79ajh6asa84mwjlUWdhJenrdBjLg4jIZLt2HuZ1/M6H09vb++OOPYWFh2E8SiURPT4/ZqcaMMGHNeritMiU99RWKzIzUV7kluClCKQ11Yfiv2IlTJ52MBZd/RafnAMXmhKM6dHT/CyyAMnV9hDfTcr4dnqecVKUXMBmltyOFvnqLN0H7kvWBB35gF3E+ddJVV+XrrxdreCf3VsXK8K8zdnDbo/A13Vd0EQ0TaWFH6Tn4jp46ZbKFm03Lvm4cLu2hhDJktUXJBFZq9z5xTtYt1ic9nVYtYLVJbe19cs7GUAduHiBETEIBObDl+j8py9Ot9dF8G5QDUUI5aa0nYx463PRUfMWibYdOHbHgYmQUTatHN6FRCeWO0pqTMSXg4ZKOiIEdNHCd6+8oKajRjWvdvnGlmO5ezxN29KwsPslQrCf3vpJbSPetxkk4FI1kyIvLXYjvTHTdupBZ6dSpU3KrGIUs78C5BxWG3Pfaj+v/ePZ5nDpmo8z8PZ3c1qDC5Ourly9yOHnqxF7dFRLalSOTxVsYuJ/hGwmPUycdDPmX/YfO1BVa+UX3zcj+B+T5dsEFguGKez8uUGoHk6CzhivZhY4cP8xLR/ezmP4QrnzdzxueVIMW36smLLv3Jty2u3TAQWd/aV2oIph8y5ifOLKLj4VJvqiFWBi2i2UV9zFQzqL/FVA8NI7gLTZvsfCMQ7CVRzQx3Xn+P/ysBio100nRweMybNEjxU6SawUl93h62vMv+Mn9XhOx2HMB304wrCCNj7T27IoDLXz4tanY0nM5sDmNE6CYkRp58lsGHkcPzy18Pxsdv05EL1IhoIOEi47YOmG9grwnGzlXGDl4utmorxKUTm8eQSYFYkAVMCW+26V1d5zCzPGlRHh+y8Dr5Om5hfdnY7cbaGhEAizm8YP66gcuxkBWspSQOQSHpfRrOtJnEsFDzukt4pbHBgfaHUQF2LTtT3nar/i/9baR9aS8oDUsrNvcTp20NF76ww/8hyJy7tsslXWHCx/UEq7VEreyAKPWb1NQdAmErE9E093fWpOVkpKVlQ17SAboKqWj0B1dICWUSjBKvKyDljR8NAU5VNxGoAl4UKTkA7z0mw8HPfa0ZlyjfurkSWvl1T/S0bk/aO3PPPYfBk6X6CxXI0mDK+3knP3fixzshtmvFWWW9o6rzPLdzkG/6ajbXuEFdIuWajWBTlrvz8ZtltlE/NsIBTNAAGY669atGxgYwBIB+OWrr746efIkdgnpnAKa6H1+xcPR0TkwPjM7OsTPOwsORJ3Fj4JT+vCTXuqiQ1wcHVw9vXM7IZ13VGRGpKP9nTQQefuCs6NzQERSYvy9Cw9SBwb6c14meJ0/ExLpLc+02CcbLiokR9xydth34sKt9jEs5VhiCdkvU7NK28HzeHfF9RMHbGydL0cXIXBXsjQ/I20E9Ttt4aApM/Cit19Ld0d8SkY9avCkLDfrRQZcwWt6fdvV2f7A0QuvG9GPppQuG18+LmuDaxY1afGZr6Ek3V9f8DL2JQGugRSfPrJ/r/2BByml0yWamRCRWloHGZjQ8zIppRSukI3GXnC33+d45k7cMILMqOyJ3KCrBxwcL9+PLciIuHYmHszhCmJuH9i31+GgWwK6+jOZ7rGemMvuDo7OwQlZr57e9ffJRSaphlpXnBpTDFcviENNDx+mDsIe1Bnmc/bgEbegyIjI+DQCeSjqYWLrMPA9kfI8Ob8O2vCvLMtPqxwce/MyKOD+uROHHA6dzKjoQZM0mh553tHe3u1saDusJdKrl2nZZdMjHroQ1Vf3IDwd8lP+y4KyKiLqSugtvnHSZd8+Z79wqLtEai95mFIIu99oc1pubjvo9KS+7MRH5b1ktD6gqhL4LiMqwHHvnlM3QtGOCvOKbXc25iVcOHeufpjYXppy3Hmv/f7jqdU90wMbMrWF3JCVkJFTQZl0p6Q/9ne0mxEavK0Jdq2KgK2S5g6dE0h53ssXaKn2VqcllMNM9Ve9jM8qADVE7iy/6XZwn5OLXxJ22H08+fEtF0enS/5PMzOenA2Mrq4qePKqCt23HHgakVjfj9Rk3uKTEcnrp8xplwch+Zqt0fN5BRtS8vPE9FLyZMNEqmIe+8WXTPQ1hp496uB88Gl2QWLwrfsPmgAH3/e/ejW5rDgnNb12nNpTHJZahm79Dcc9SapsHehpb4iN8j975mLMvV3r6B1Bru8dVZOyO9xPekc74S8kFAw6OjrCwsLIlJXZlpYWMHAFBATAbt/R8bZg3up4TSotvX31W1HMViRBfn1TqzHpDLOIUkJjd5yLNfMPJhUjhNlff1i7enZ0v6UX884LyjtqMnNSdZ4dwlTDfi+m2To0M7Qp5nQrySfjd2tfU95VbZhzSLO1eOZ4Gnt2sfy2Ha9fr5QPh0ZFNfiILQYy/Nfiyj6e/rk0nnfQd9KGS+MaNFpKJJGngpndQaa1QdDyGa4PE+KTLsXN2XLQb5Qi6fr2NQpmB1s6qgy3iMi6pCE9SbLqoj7ZqKX3T9fBnwer9wgqjBQWFi5atEhUVBTwCGafrb29/euvv/bw8GhqavLz85vTAQEqrDpUDZGMPmDqi1CHb7qyUHfwhzSteTh5sBjae0W/Rf8jgsIgjrwIPr9Vf4u6sVNmAw5LLRY4vPBwdvWT36oyUtAYyJN3/VHfasFOA6qIgiYGYpyqbbQJoKuk8DsseZR3PpnUQCW/zRcZbUMwC6Spu+WRt9mcOjA9pS48WTjkqay/LbVJd/JkzrAj15j2I2nWtWqU94t3Mnlo+jA/pOmMT5/IgumkQncqlrbJbE/qY1LQA1ykmWFOJ3Uy1zP7xXRiSFj2ZwwqaJlM5hFLAwkrE+yk1WRpkN7N/iRI73AFGhgJW7jB8vzBHjJdd78SGqarN1iWEpNRRZql9TqrEU41nrcXRU6GNVlBlLfNFS1PAq4rMTKqE9tAnHOnq0yOyqwdBiERiG8HMBAxEa0MGNd0HyGjS0WkSQ1rGDMs0ukEwJIcbc+7dGSXyubN+87cA5JLX31+4stX43+Xpiw2l8nKyjIxMTE0NNTT0wsODkamiObOnTsHDx68ceMGDoebdqSBhs8Sf2Lr/Qf2i9+ZpC/cfMG0FjONymiYB8zrmebpIP/uVLzTSf5Q8PO2KEuYwsz1V8x8ASZ2zmcJ0EADDf9IfOESCg000PBX4vMmlHk0eEN5f9Vw3lNL+cD67lxy+Kemal5ioX7MMsDvD44m0n6W+LwJZd7w6a33TzDeNQuf1brP3LcwyZ9wU8rfnSsafgf+AYQy0/rDjJsopl5NG/uZur+HOmmgCLgPttYUV7aQpl5NhTe9xkSdGTz1nTgxSpi6fKMmIz4uu4I0GQB15grVZKpQz1Pub+N6m7xZCcD+zTT1ggy/KX7yLLGbhO6BokclKdPZpFJnMsj0A663Kb+kBv+B8D+w1DzTjgb1vYU2ylSOp/OCvQCPpOHOosLqscmfHyiuX68+4LO3NC2jvPvtZ1MV9zZW6ttcTZmAmhXRzBoZbilKyHyD/B69Khr+ZswboRCJRGxvGEH3kicmJma9ftf+5cd1w+behKjUVHNdXueQGQ7vLlB/WHdttskv8GOkMl58+TLn2/lQMfJDwj91tjYH+JP35K6pPdRVJxHI77ya9eHbx1GntQySOld731F+e1c7A9PnGj+2xzM0vafztZ/oJntk9gezfv0eG07vls94ddhmJcW2d29QmuVvts2fGbcNgb/k6o0buKPrcO/GNSupMOTk8xoXXsIjZ4SZdqzes3U61vpqN/+mxC5MpJlLBmn4p+CPEgo29+7o6PD19VVSUrp58yb4+eLFi0WLFmHasb+5v4Mb7CkpLyrMjXsQ/iQPPWfR/qaptQsql08M99TVNpKoxNqqiury9MhHjwtqmvvflEQ+jIjPKgcRpx2Wl9599mVqUtiDJzWdg1iA+MHW54/Dwp8kdI3AtLU21VfVlaYkxdf2o+e/UD9Dbbnhd4PCo1NR+0P4x8dNObilU+rbyPAEIDLa2vi6EtOEQwa6G0tq4WnBzoKUkKC7z9LhfcTU0Q4PG411fDrVLX2AUnJfRt8Piyis6cQSMNxZ++Re8N2IuB7MuBHKMl3ZoVxLVp6PhmffKKP1zyNCQx88q+6A+R3tbqrpbC98kVRRB38CgauzKVOah2PrQb/XCTcZ+LZn5afcD76f2zyIpZ/c3fQi4mHE05dvRiY1+jB1s7Y3jeWVr188jYxPLxjsbU+PDo+IzRoiEOFrYm9mfPjdkIe5NT0g/tKKop5hzJbAaG1ZdXtrc25+CQ4tm/rizAdhYcnZFajO2a/zO9RoA38SLkjzHvIh4AaKisp7MYYa6S4sKyaCoqjLDw+5Gx6b1gNkv6GavaJLNjrdbkJtEVW+TgkLe5CeX4vFMNCUFx5092F0BtT4RsiPDlur6N6CyuyzuIeGfzrmgVCAYOLn59fQ0GBlZaWoqAgcW1tb2dnZq6rgSXKstZPxuDEcbgwF8D82MUqaelX6zJ2Ojm7dZhlVGS46PuM23Mg+LVXTY1HgVeXTsxs55NsJLTwr6ehYGVW3SHJxMcnKSYGHNat+CCjC1QUZ/AC+FVVVl+VkFlDM7xzHD9foKPFzy6gobGBh03PsGBt3s5Kgo/uaf7PK09phbEQdrQ/ewvCTlIbWZoGVEtrHOkeHzm5Zv2DR8uP3EybQzt8W7vnTgk1RTWQqQjxpJStkdKEuMXDNT+vUtLT4lq1XPhIz0JkuzkP//SKG4Lj80Bt7FzLyqqrKr+YVDnzdQh5/Y6PIK6aupyq2jk1Ov2WcTEWH/RSPrQu/+0Zhj2cfrujgpmUcompaynws7Fsym3AlwZb/4WXgZlW996wNFRqIqZGnVy5exMyjExt1nu5ruv9JSGrKC9Hxa2YBmm0q283KwyWjoiTAvU56f8kwnD+hh2tHXbeJ0H39jaymkgDzqg3S4mpb1ATW0Ol7JgAyvLGDl5lFWktLdu0ygSeFZdb8q6ROPAJRjWf5CCzfcvPOdWZ2vV4EyY+5vJqNTVVVlY2D0S4gnoSuVSNQCiPiRkdw4+NYBY6MjEF9XCoVPVvXvZGf62ZuO7UpifUbNreXgyAD0dcslvDteFOWLLx0naSWlhzzem4T/+qiENlvv/+FX/NRLTkjynMxEzuIiJGd+fCjvImRUn2eNYr6OnKcC7lFXTtHkaHcEHMp+Xw4BNBuMPqc8IcIBWOEvr4+zOgJIJHo6Gjs1YEDB3p7e6f9FD/y4OLk5OLm5uHh5uTgVNA8A8+WoY219NnJVcwqWfB3w6a1q2KbWk9Ybd19Ohb8ronzUpHQ7SI0i7Oz7Y6Anc1Kll/dA7667qikf7G64Y7+T2KaDbBZj1oJMR+4nZjgb7+MayeahM4ti5acT665uk+SX9EZlUSoqKo74bLGahnzu9ALqUphxaob2V21L25oyJsOItCYAdpJOjSF+V3DSpHhym3rxe+8rNojxGYaAA9cEHIDli+WS+4gFz88IaLrjZBzVnzH/qgajqrB26Q2mF5obUpm/GppEDRYMx5482ITbmoSga/WXs8Cgii8qMnGbwbPliKEI0o8W488zAt3o19hUjw0afsaPVI/sVNN4/yz6sHS28vWyqbBwulRpl96r27o+VHd5cI7oFkE5I0+M6fJZWimYBx2vLEjZpslLW6Bp+QrVitELIEo1BVry64f3JR6kXeNQAJqkzDsoJqk7om84OPLOfaBRD901thi5t7+JomD23IM36rMyb7rOjwxWH/vOBODXN7YpBmj7pwQPSE2Tm5+Xl5efi5OdqkdyfVQmIJJHU2TYjGNyAZURzpiskndIQjU63F+vqNBZVeNpcTt7sBYezNEVwqcTWqJNuQ3C3uDUCsF17AdfQiNReVf2cUmbJ6W5PPLz2zw6nhSud/pkFYQdkecthK312sao3xmmLe7je/evbtixYppQ0pnzpwBRINMEcpQR23CiwQwFUpIgP/Ss+qnjzK+enhaQP4QNC6DrzFm50lrbTtuDgglBgRVn3hDVVS7g9Aowa6Q3IQnkgasNA3dA1+TiJQ7J0+ZH62qvqklffwhgUIYJyIBFltcroTF+totW8opJMDDzcPLtoTxTnrJcXNDW+8kyCZEAnrGaNSJhy/w9RvS2BjoKycVha7El5Y+vaIma9ACMkKF1pJAsp44b+Z09n+V4sfDp4gjt0nwbUmo7AEDNGA9TdEtoVlNL4OPi2lfwbVH861ax8PDxy8gyL92repeHxxp4tFJK8Y1y9m4hVz8EtBD8ejC7VChBgNbFpl4b7vq/rP3iJTxMTwS7Waxx/lSQuj+DZrhCDy9DtcliRQgF3SZKWmeuve6ITuAS8yOjFAI5GYzbu7Y8qZrJ/QW068XFxIQEOJlWcdt54Va20BNANnp6zlfT6aSiE+uu8rqngezhfbsEGnNR6k+rmaGBwYR4tgYsfypl66CaTe5kWc9T2ZtuaOhvENwFdIWycBh1TNSbS7NxcImICgkKMDKIixnVgSJDC6YEAebc5NBzSUmJCQkggpML+wZI1Mp6GSkNlBI2jqlBg9yWepvt07dNqshS5iBvYnYv01J/VJEIShnIjLoYqTl7BV/z1lsR2A5cThHTYidnUNAUFBQgIlJXM2xYWjA75DGwsWr2HnFz4bFwhMn48Xm2oqH70NiJtHubP18MA+EQiAQAGtYWFioqalh54wzMjJiYmKmLw8Hfyue+2hrm+7YAWZFVlutTHft8xtEJhftciPOCckdgKYtCNVanLzpba0HTQx2XoT9pDT4sISUYS++UZpH6WklDvQZa01tF2gghxp4ws3SsaouyJDe5Ci2PXF0C+9hn+jHZ7dziJwewBHG+lsCb1wrb2s6Zrnd7lwcdmoK1QLBuQittfXOR9PeKcZCfymrsSL2qoqCCbrkQ6Jgp8LqIjYwqmloCqtcBlJFwwYG8Vuv0CWS5iiOFQoJNcMpga5SW+8gg4/XfCefWNFPIIy/igm+8zSr+01JzMtcEoXanhe+dOlCn9fwvDw8FT9SqMrCmU1CYuzkFQ3OYbaFXY3FVV0CcyOchQ0CyRQqdtIOtdjes01Z6+rzuq7CuzwbbEbgMf1mAx6u2IZu333y3HqO3eMEfE/9/es+z4uhySU8JMoRJxMj+4sJIK5n3gcltTxBLjpz70jJRBbcd5XkN2hAY4y6bLFexgKM+yF7hUUUlbeJ6QK5AF8axCJgOzxaosgocsK/CFRofUGit/+9DliycLToKX1hb6VtZLnTesdOaws93R1HC5pwkKPBu7ZHwszGT4qG0AWnbC0RXbUtQiKHAD+OmEnL2ftAS5EIsVSFXfzko6p7e3gsHnchEykCy8W8I2tARJVZz26GxtSWZ6cXNI2RKY3Z1+gXiD6oICHD6VqGopjdEyJNQvl8MA+EghlPUlFRcXJyQtDtHi8vr4YG2ICnV2S7a3IeRUU9j4V49vRx/Mtc2FZRCSX97tFVXDaQhwhVyj///KRx+NEZg5W80t6+3tL/oftRUGNwvJp5seijMvDFoK7Ept1X04Hf64cd1fcWNz5Qp6Oj03D28XFXZFolkFJNaC8JZWNhdvEOvelu/guHdGpz1z5NVZOjcDsGEApmXqA42ILhO67TAbdPW/Axr9evm0BK7h2R5t0CR0MqtKKE8g7htORqOro1adD+PDFoj/oabg2/27d3iPKuNbo8gCDZAXvpftnwqjTPUlNQaqtLaKiPEDfDLv+U9toohpU/H/IOved3bDGbYGwDZroEoQ7nK/y0EPSm8WJf0YXLLQ8HBJw3ZVvI/ChrKO+OwQpFfwSe4p0mlP6dmwWEVPclRJxdyWKJGiJu1l78k3/FSHd8MMtyfluf0NsuFouXygXnDVAp0OIhKBxzxS3bTzwHT+Fn9jBLHgYPnVnXlnPfoQxkGDMtUTQ6GxBwTPSXRUd8i0CW+nNuQJPEjo+Bt65XN39YrDWMUL2d1Vml9UJDQ7cq8YpYenZTJy0PDnfWvXgc8Swm7vnz53HRTyOeJrcPwjkkusHVpsovG5Jcg1V11D5lOrr/BBQMgCjSrtjTrxU7dfv2CT25H0R35U8g8ft56KRtMrpHT9vIcyiYhYaGaEgxb3a5W5F+loGO0T3g3r3rezk5TF+3IcTKx7oyIk970HqjbR5/PpgHQsGMFdy7d09cXDwgIMDf3x9IKMgc9new120VWb5BqejJ/8E472tlA1RkrPmGh6OZ5a5zPtd9QqMmyAMB1x/W9IJYJp7ej0wqgpJEUW7K49weXO3jcx4XHWysTMxtojImr84oTQzdsc1om6VtbDG0spvw+NnzLPhqpgmRtPtHtxkamu0+mlE7CH72lGZEBUfChQnULBa2L9OW/+S6d+qkXSdqb5Cbo6G+4c4jPuXwC2TwTd7hQ07h6TXISIOLrYWxyfZzgbGoGgspL+q65VZDw61WPnGlb5VW8N2x129Uo3dXNGQF2JiBL3bfjYPr1i2vo29GV0yVGLYTSyl8HuK4zyU1J/VWUCoqzowm+ngXtMCVi+qo27u2GW+zdrpfgJosmlQrnYh7FPX8FWTF6tyXtx9kg4exzuIb4XDpZ6A2znWPmbHx9vMB6ZPzh7HOh+evp7fAyxJGO0u9bzyD2Sf0+J45aGJs7ORxvRPdovpVBVpoowCB9rd5NM+EYy6jTWne5x53TeoM4GN9TpoaGJjZuSc1wRFkqD7N1eXo3ToyQu64cGyfsbGJy/nb6LYOIfHc0e36ekbbdz5Ig6tC6b7HFTYcHsSGARqffD6YT8W23NzclJSUqqoq6hSmX2E2Y6buzHt7s98H8btnzO/roXxwbHv30rzfCPT9cGbf5zTrzXuKoO+H/ut6KL+Zx9lFNycV9XcMF31ctWO2WT3Kh+vv7a2NaFhAoOt/LsAtlNo69m5GKR8LDiG982a2T3xfxR5eQe90HGqzg0YnnxPm+V6e3wHUPA/WkqkkIhG7j5JEIsL/0KPKcB5CnBR7p+0qoSZz4LoIPOCMXs0+bSMHM28DQ8Au0HxrqehtnNi1i6iXt7aE3reiRJyevlPR2zIxozVTirMgdegNpRTsbnjiZAhUMpYcaPBm1mV/k7nDjDC9NVwEs0t8b90Rpg74n1E45KnPyVPX0L+TL/LkIhEsHMz8F0wbCTP8M315/XSOqNA+z9RloyAwLFdYykDZz/VqTLQ0quJCovPaJwuNMC1TUKdKgkSaKmciZnro3YioJMxCE/p3pDnnbmA89dPZloa/HfMpoZBnXZhKw78Ff5ZtCtpU5zPEP+AsDw2fP/4Mu0N/d55o+D2gEQoNNNAwb/jMCOUj1un+BMt8/0R8Ujapn1oon/QB5veT45gZwOz167mHNGef7xxo/HR7EHPI3kd9TJ23/rMxl9J4z8/7H33Qy/R59E/IyWdGKP8ofGi5958LuLr7F61xvl1+ntcwSX+l1SVov55MQa9SmCw3dJmdiNk0xSzxw70CCoX8IdNcf3ZC0asd5nKNBAW9JIA63Vap6LUMaLIn186nXaYs9U82bHgRwtu9grlmaH4IBbvKC7MdO31vAHbkffoOgT8WPpZR6hgBT367rTxt64M0NjHxB/Wz5zzqzdXwwpwG0k8ZM6kkwhiO9KFy/NBONQHfPzJE/Gj47yeOgsP1j6A6iu8PVu99ThodHsaTKBN4AmHq8pqPZpf6IQcKfqh/AP+2H1LG8eP4OewQU0iEweHhCdJvL9uAXjIyNDwyNjY6PDQyihsbGxkZwaEGnuZ0W9Jv+5hdE++JWxONdZ1Tz79LjPuwKP5uLnFjI+MfL7ff0mF4n6HfU7wgDzW29xNIc2WUf7qEMpUNVFwdiLdWVglPHkbe3qKEHhQqSHE3sC5CrwOf1tKmvh/GR+OYq6w9/YSOSMQX4TFhcVAhmDKjm79PK78Z68wzCr/itzPHX0nTEB64JJPez+W0SSpMKw/pit+h7ZRaih6ug96pSV7nMyo7PhAxpsyHjIZevnjmBrwsFd7jPBXae+GjWjSEqj1mdtmNlX77Nh86X4ZMXRKMpYg60fHo9Nla3OybXabIf/JhuMDcYEdu1/hUHsb91DXCalFV/xlxIm+TNxJy83Fy+SBloMHb0DobNyvzs8xYTanqjDYkWsiwsnHyikpIbhAW5OFkZVNxKOgmfrRe3tqvgn/7WnMt9FSlZWX1TA8XwCsLRyNvHjfR1zXS0dUzt79VjoeHP084KW/epG7mktQ8gSBTNqXQz1PPbbfzzYSJJ38gmb/V0KjU91I1DTQS0svHsaExdeAhxGh7zBs88t4FZrAQoM5iw+X9xvKyshomu56UQD1PQluRs7WB/CYF+7OBQ7CikcE3+Q6m2nKbFMwuPx1Ev81/dttQQ1FeWe90fC2C9F8y3BqaUP7BxLyP+bGH0tjYePr0aUdHx/7+/lu3bl25csXMzKyzszM5Ofn8+fN2dnYhISGfGvLY4MDwGKz+8eG+7kFUYZXQ8upFQlP7ZHcaHejuH4fDI7G3szj51cBUjY3296FDGIIb7BscHv9wlWF/J3D9A+iFoaTRzp5hyvs+Zj+BFHS0tAyMYXbdcM4GKio2dyZrnzjW1dE7g1dI3W2tXcOEWUFO2i0hDg6NTBoB6eoaxqPRon9IY0O9faPvRTqJ8f66xJSX+MlKJQ4NYgaNKAM9XUPYmeZJ43O4vlEy0vtEnE8/PAv6IRBA88LtZl1+OChrsoh6O9u6+qfThbb5oVMHj+0+XQp8dnQPvQ0NofZ2duMmJg2vQCUbGGIBL6N0VHFTU1FiXvEgmnRcW3vrIDxuiZA7M+V/XhpRP9l1B7q7h0YJMwLE9wxMILg8dga5xMbRqaxSahJeNo1Mlt/YUH//ZO4Q7CwCldKmIiSx/04eMlh1TJL/FREZ72oeIr4tqZG+nv7BqbrGLGaMdeUlx8bGPN8l9ousvdfzmNiYVxVjJHxna1vvKH5GehDcUE/f25rC1Jpbd7IxLTdyexIVablxEd+2e8hIkabJJqPTQdH37ly7cTunh1R62+b7JWK+UVHHdeXY1Q41E7E1G/Rq0I50sXVbUnqwMMk9nW3dA7/aDkkTQzhMuZg6NDSMiXz9Xd3DOOLMhkMcG+zsQc+kUyeObNOQt7oF3M8LrQ2uwSGz1EFhfaLaUoSAQ3JMwrJRUU+OWcgukzIaQkh7tfjWKO+Ninooy7vCxvsZ+O6Y3PrVWw5HRYUIrVhvF1lNqY8XXr7K+NTDx1ecVq4Sf9yE9MZ58PHtb/5wDt7FPFz0BSaVDx48ePXqFS8vr5KSUm1tbW9vr7GxMfgZFhbW09MTFxfHxMQ0l8UjdNoydumQ0VK2FXwinJw8gnY22xX4uRjX/Oz+uBoZK96x2+5J2cDTAxt+FtvEzcO1ehG3X0YnvjHrqt02ICqkuMr9IiXHwcWxSlx5u/0OSQEuegaevU9rEULeBmGjHPSW3WsWap4BsZWvgles+YVfnouNca3pnp3bNvFwMK3Ucjg7AE2AEOAJwtJbQhwGOS0TINUZrmZbrL06+vL2SK3g4OJiXsty+l5WSbLPyiULFi1leVba0Z/6QGbZWjZW1hU8Rs+aCZThqn0GUpzcHOvXLj/oGzdtVYTQUXRMh2edgAj7voCu4ZYThmJMbGwMq5k8A6DFgMqYE2JMDNw83Eu/+3GLSQCCtCmJ60YVwLN/D4+YOZzwb6p+sUX3HK49a+s+fXFxfnWVQMJEm4WOJBMrKxMLy9GwDJBsfEOKIgcbOw8v84ql/11rlNY0KQI8u3zwl5++X8G7MautP8jOiJ6Vi4uVWdD0SjsR1TGDxY73P+e8eim9vBQPEwPTtvPP4ZHfzlJ7Lm5GVlaGNSIHworRjKCnP4nFEgLayaU1d87bHAhrIuNyNMSFeECxrxJ2j808a6r243ffiW117BoZPi+9gQEkbw33tsuJeEhO6XvklrNx8zKuWPjf/27K7yFPdarxkF3qWZ3dVw/oLWFdJirOvX4th4lvKhkeDYMGYp4FHPhl4Q/LGTbnlOY5q6z8RVyJj5ttzTLtl28oyMSIn64aEygFetYthx7gEOQdi9shlnz7ItDbr0cqzYT42bi4WBgE9vjlgOwE7uZY/YuwNC83y5qlrr7PMS1DWFN9rzl5RZ7DER0ZjHNewWhTWfbU1lLlYVF7Z0crSvmjBlIsFjfhTelIX6y0sELQK8jCRDws0Cc2smqu92BgY01HVGUYObgY6dcrX0kl1gVLKBwqg0LmoPO2rSfv5g83PmFiXsPGz2lzwllskyQHz1rp7Y7tw0NnN4qg5cZj5pUMWu3rQBtWRVU9aS7WdSvtzkeWpPivWrbw56XMEekF/nuUAu/dUpJVD62FElKMr72Ihu0QxpbEVhfbbR6PoamMvoIASX6N4rpngksVoythRitO75FS3FtUnci4njUZHUFKb28X0b0a4rWLVXkXyrhjp03FNI7mgGp3ZuO49Qqa2vvNVax5sIfS2tr6+PFjEonEwcERHo6d6YD3HAsJCWHPWVlZjIyMb2Vy8Jc0GOl9wMBoq9n2bdvNTA31t918mEuBrQe8m3C3klwiYluLw4e7qn3LKF/YQ83zlV+t7IdMZClIKAdm9IVtXcmreHwQ9LTtMly7QzqKEg+rS1YiSJwty3rBvb2k8eMmG35hM20YJkacNhTcYoWbqORcJ5/WDEvpvJbYoWtR5SmX//c9p1/xwECG1/ffLr6Q3o2vvMAqoJJQg4o8gOIpLZs5F1s/roRNZ6Og/dUnt3axCCpdmYBXJp9au4Avt3fQc4eutlMIQu7Q+P6XHeFN4MMnFoosRjczHrqvXi1VDcKpitxmaQYPuKHjOjJQYsj4P9V9F/pIyAOnTcxqF2HDzLtGv0YprSjdiJPB9noemNnsZV3DuekcgrQIM8nez4Hz8JC9GlZOV2sKH6zn2jkyWq6warG0U+AwaeKqvSar2lEYcE4AwwrerOHhS5t4WUyv9CPkxDP6P6yUfNkGuwcRRj68Q4DFM7qw6sG55Suln3ZRkb589TUsqmczYYlDCqUGHNFdLGBaPwoy6L1gNUPUyHiQAg+bkTdsWc/OrVitFtcEOQHaiyEWifJqppSVn96xyfx6R723+Ncb9wPnusgre4/6N7UUKaxZHzeMRFttWbvRGbbVkjDWpeJ3Svui7OhZNp7qQ5AM351LfhB71TVNKLhLm9niWrtOWogvEdjdMI4k+uxiFlGDdmUpeJg6pN1ARu5gwCvAs9YcP+i7JoEcHRVi0w4sKb1ss3y9HjwT1ZclvZLPObIZzTIFmboO9YYRm7l/AZk8dlJehMn4LEhPc8SpX36WeVw7eEPv+wWCGo1kpCXBg2EhU1wLcTI9VOLYOGoSouL1TslvJfc+aM0M5KSjY+SXEGBe/pPckbrBZt2NSl7PKsFQQcWV6giIHr9fDONFRbmjUrwn7mWBgJ66GC9i3lo2gVTEXOJV3p2ddoN/w+58OO8ctFRRO+Sbjau/+5+v/7fnZhqxP4N+xTd8Jt6Abe4ab14v5wKljoIQ5qUb71aMVwVY/rBIIruD3J1xcfkClZpx3HlbQ1UbaPvmojJ/UkPVdnExG+9sUDlHxYX0XbIQzDIpNvmldASctGNdSCeqE4F0hXKLW+U0wcuzWh4cUrFwSEp5yMdv3gmnZpTmxIui/JpOh/Zq7PBDHcZvO2pJ6F4EPfa+FYPa1RRkDkc95mENBTNZEBkZuWrVqmnGAGxy48YNbEHK3t6eh4dnehcKXZMbT3ty28PdzR3CzcP9THRyA6xGdKbiZKy790oCeEoIOCapeRoWf8Fdrs0PkfFM1U3aQald4dsEb5UNw+PyWR5c2hcqXsUf1d8MOvBTC16PePB/JHCX2p6jt8FDZeQZ9U1mbaMVQqxb0t4AcYN6UU/quM+TV7HXhTY5wtQ0P+PgMKqFza9MQdEjoQC2fzKajpfHVdeaRuKqIhUZNBPLm/Zxs4dWjaLJx9nyckSV1V+2N99+IgYZSfru5wVqRua7du00UOFdwGj9uuq10QYWPlkNO2e3zDq44oPN6vH1aQe0NiagVi6tmJcslda22bXTcrv+j8sZnNxP6Ihp1qKl8/rJeW5ZNwTpkOCQD8vpAGkOddDZdcC7tvgRu7Dj2HCKNNe2eNh6h08YibPzq9vb21noKK39nuNZaYnWRsXgjCbYJzoeSstrRRVBDiXg4Wi1X4LvdkphyHl7RctrWC3E+zhuUPZEGx+cbZ8/fGTPuXzYoSbanLZK2frFbtfi5JJR271n724L5YVf8/mlQeV6IkooG3g1kssqLtqpml9qGK66I7eGR3izjv2Rq3lA9McVazLzFA0O2BsLrhPetMfG3nan9qpv2DzvP7cSEfDN7YKR47IF2VVSmnBvCUWVP7mz/aChtsN12HCrY6/pbNSAZzopBNQeXfc2RY1TEeXIRM0RrQ2JwzCMZH8r+R0BVzx0lrCL7LK1t9ttxL6E3uQElBoo6EkCbAnnphGrRTAYGNrkN2y6lViDZr3TbLPSqZBU7z1C20Kr0ST07ORmCcjrmewz6KpN1LW9AmuZ5bfa14wRBmuyb1y53QbbYqU2O7vRsXOmaibXo8vQWWCN/kbjy+Gw4RFgSfabSTC7h8Mjjs4mWrvPP4fhE8ZxQ+O92Zd4ZR0Ku6Adbhsd3aMB2d2ld1n4dWAp9Kdys21I64WTnu06/IwbNsNys9Za+T/m008acu/uEVZAh+rhV9wcWtUjw97OOwwOhAGHc5uYE0eR6ONqHDZn2zoKZFevixuChxZI1Olpc0/I2eO2phpCIvYvEq9v2GyZ0QgHhuYHB1StHJKSw4UELHugX2rX66CNQvYeR+21d/qji3Hjd932KRgEgSDSvdRYdSF/UX9ra2l+CAVjDXFxcWw3p66ubu3atU1NTZgHKSmpCxcugIcxaKAIzSd5NPVxkMcpr5s+1338vE+eu/YsqRqZHEtHD5ga7T4dC7zF3nDZoHwc1G9f4R0unodAQlHfpB2c1h1uIRhY1AXbRdJhXtWr1dkvjhsogO+fmPBdji8H7tetlS0P+YLKzr/vpqRg2TNaxs+im48uGpw3lHb1eZIbd1NA2olEpRLqolhZtYphHRRtFjyRgAqu6EyYOlr/TJFL2t5qt5bxmQlk2HItfWAJdv6tU4yVMaq68bydueWpF8hQwi+LFx27GXznTuCtaxfPBkR39fVUF2c/uX93//YtK4SViocmtwRGq9M9dWVyCGB62263eJX07jN3IG7e8L4XHnRJXlQNM1mSHXaMW/YEkPw2sGk8K4d8FOqsa3nwel3JI05Rp7GBJDlZg/BC0GB6XTUk5dQ9ggIDA27dPH3lVldnubKITGA6GkzLXUk51aelqFkIONZO2Ijz3skqf3jeadM2H6xeHhzeKqEBn4mQcfCXDztuPxEHX4w12auLn43M3KqwXtPeDYQf7Hf95LlbFd0w+3D5lVgkxq+VUl5xyV7L4lwBgdhXXprzIPSug5LAWh3X8rZibQ6+Yhxurxan1Fbb4KDAIH+f0ydvFDeVbOVi8cpAJxIjmYBQUt9MtQcEd1lNEBCKi4nh3osvgEtJ1AVFKS1UQoEbe4BQTBQ1zz+rQcbq3NU2pI3CEeCF1zZlq5DLrspcCvp3QSy3/S6cvhhb2IZMLe1hhOJrwm4ZDCSYNkVhJe/4OhgbpVKbX/7Ko4JrFnz696qxOt3OzhCQhy55Q8YZf+Qox8Go//BVJVZWbyryK9sml3VCDxiaGJ/XM5BxDoZWe5D+OGlulaBUOFCg0tTIdnG2Ew+hwZ2DxmqWnk+gn6G2lNiXVZmXBFhtqmA77LKUljseVNRdep+d33YA9NK+FF52/ZfN4PvBbcrscmb7Jsvt1LXizoks/22CJqGQ6LpTONm060aHrzjtMHGNAAFdVmC+D3i+9i6P8DYbJyseHU8SekQbRtpaeMB6TyRqHBAZrNBfInLysa8S57bkWlig5dfsN2s55xfHrmPbUIqu9pQGW4lsvup3bhe/gQtaKSNnTKU1HKD5oYSLClwO4cgcTlfNj4El8FdLS8vT0xNzuXnzJiCUkRFYxElJScuWLevv709OTk5LS0OwJSPiUPSdM3v3H/ZwP+HucdzJ6eC9mALqJKGM2GprmJ+ApiSfXXXkkHUFD315fvQcochYupyYkn9y530DFl/05H7niwMMCicrMmIOqkqAmo/QYTwVDcduL1MZEwcv8JB/11VGTL8P38hPv/RIeG5llNc6OjqHeyk5jy8yC9nCsbb20cqVSvlwWlwgxuv6/NUgVmqo3Eu4pkVH91+mowltgBG89OjZBV2aOjpenFdatFi9nUg4t1NNzOj02ESr7uq1urdzqdSxy1oqagfC4+8d4N9i3kOmNKbc+ImeDQ0SZcrK5INKQuno4lakkyyX3OE+KrUywkxWZntJbaYu/ffbjyW0teVo//gN/5ZLINMynKssrj5ryHgk/H90Wp53G3PvruawGet/ISKoeT8XDDIkb2dtLsV9fRRq0dNzPLL6VXjCOTXh71VcmtrbL+yRpfte7GUbuoQKWzl+rxCDvXdkweMrzMtFggpaO7Lvcy1msYqEpI+aU0FuuarQLZVMrm5PuO6wjE2kmkq5oylGb3Cmn0Ipun6YS9S2sA/t37DUCriZtiSWlJ202Gx2szrnkMHabWeHKJTawF2LFE3TGqp0lv9yu6z9mYPBcimbagql7ck1Pi6DpDZihA37Whb7qvb2yKOq/6Xjy+x8O+U5I8eS0NG6T1PN+jQktZKI07L8CqiEgkcllK6tMmJb3R9N9JQf2cyViBqZibugJbDzUZG/yxIWjbRhCu71I0lOpZuoMdEpnQsY9jWtNca+QF4gXdST4driXNnRkehh8S2TfsYA6bb2dz8wiWc1tif5bFu7XPE1XFVHLUG8ifvvV/8xPx9blpf26OGDtOzSx4EH/8ciF1fZXh/vx7SAef8rXMEFrYXfaOTWt1/Yp7ZGeecbuLhOJqBL7Kc28R0OTgOjbOKpHT8wqsfWtz10N1y/yaKk+AHvt9wBSVUvgw/Q0f3nfGRtW37AKkYjaNOi7+X61XJJ9XAJ6OEuzVWb9tVTKM2RV3i5jFLakdc+uswaATDPPUn0q7ZUDg17O+gKah0bwxMuyq0NrAQTrdHjcuLffvX1uURovwceqoP01mEv/zOfvkNT85t7njsXMMsWDnQaSnIK7fXvaC3Q41+w3TOQTBkzX/OTtPb9jvZsQbZVu+4XDRTfZf1m1dnQyrznFxcx8dwvhZsVd8wYVf3g7PhPn/JgIkljY+PPP/+cn4+ZQUOMjY0Bv2CvgoOD2djYoqOjvby8MLWUjweGbTfgvI6dOBsErXhkRdw0d4TGX4drog1dE5Cxckcnt5iygVQ30+haWAv9r+8YnY5sLs8OcLEFPSPrmMm9bLj8Fn3K8ez1KPBQnxDganNkGDLLIV4+fgU1tY2yMn6Jr8vTI7bu9AUlRWpN1dU7XgcpscbG9VZOPbrvMLUZX/7skoLJzjdk1Nb8YMkhXX5eHh4+vi1hGZD2M0NPgZldbFX3cNkLTWgyl4tHxTG3j0wZrNhvKMHFycHDJ3ww9BUyJShOvCm8fXBXKbY3ga89ZcHDycnJzSV+M7YMuDTEe2/h5RUSE2NlWCOpcha4VD09L8zHL624RWaTrHtIbHtVop7ZzYmhwt37TibXorSEaz68Q5WLi5NXSNwnvgy26I5CFXkJkFNhQWFhg6OFvTAy1JIuknXTTEJCIr1r9OlZW16QDR5B3Qtx6J4EZsqRHBXkobRRWEWan1dgY2AaJBpkpPGYojQHJxe3oOrVpHrQlqCuE5SO6y1Nj+fXvQn1Onoiop0ylCMnAW068gjIX75bDgrV11J4k6ljN4lw01iFg4uLm1fW9X4+/LC/zFWDn5eXT3+nqbz6sTLM0i+MaTzc0TS/r9v7iNvFe3Cy0JIWdmyHMxQ2qNhxa0LYSRtBoS2vSgrvuVrno5JiXuQp40tARqCE7t3OA2Lh3mB1LRE1kDV91w/8/7OjBqdj4BoLZbDcQU0O5Jx3g+bVdGii+IbB2tUschs28HPz8Pm/wEzSwJrC1SVslJQQFxcRBBAS2qTi3jM24GlnxM/Hx8srqH8pGvI0tfuajjI3Dy/3ZpOY2lG0s8HD4eChzF9vpdkltKH3e9kZ8/HzC0kp3H/VBteezXXAT01daU11i9DENwONCXomF9GrD4pNDI4VYYZkKD2XDUC1gnKTO/qwEHSK1+Ge2668hK+GCgx0j9SNkoqjLoG2F/W6PPqoRXwjDKDx4e7Fa5WqsYsWpmS00boIs008vDy8fCKSPklQ2hqpSVKQFuHm4dazO4byOTKQ98yQl4ebm0flUMAgOqHJvOQiBvLFL3o0oggtyG7z9SJ30Db/5y7KIlPpBrMbIJ709PRgjrdv387Ly8OeJyYmfH19r169OsdbNf7p+ISz1J+S0xl+i5+eZxW3+ZM1cKnzHj75b1Ia/uT29LYGR93l6fcl9f2eQN77YsYtbGDOWKfFzXmjtP+TQ/2dIPS1Fh/QWrb5bNSstL1/cdzUK/JspRsEKit99KMSLysxuYvDZGQu5fRPVGyb1mWeVH9Gn9AHKvaGSp6yCoi6U1HzP1QEc580CEKenEVPykTQrNmUCi92r95UyNRJRWqESn7vnkzUTspbXTkKaoKbMuUPJg9VCEYwN5ha8pT611SyZlL6VDqnw0bNTZKmL9kjQYO2pLLnPtaO1whwbCaQptKMGV4hkSYLYbo9kLE7CKcyDrOD2pDALItQZ+cF+5CCfvK2BKaAqloTMRNKbw0owU9mmlSaDAw1C0OduhCaSiLP/AkFGaz80bhmKqdjNYjpT89KHjTli7wNAQb2rgfMBA6VMqXXN+0Fi+Vjt1OjiZmOHbtTEStBYshB89Mx9aBUUSX6mTUFLfJMAzNbQ54yzzFVbtjFqtR3rlnEpNvGF+cOB8A5Amq1ZlL/fUZSSVg7RCOaMgZEelut75TbjMKYbK5TbY+CWuEZDT+zg0/KuK5vDHlnzEbb/WRLpFBnpBoWwszY4HWWU1QLn6AfMgGqAA347XdNKGx8q5T4q5g31XtsaRb7OVPXHns12fE+f/yq6j31nZ+/meMP+qAQJkZHJ94qAn96kuYU8ZyV8udYcR8L8vck79Mx9zBnphM/PjqGGvj+3QcTP1zLmDLLyKQJO+rsapx7VHPyBv9QBjo7hnCUOQf1KYcDqXgcqqf0haje00DD54i/Zfj85OPUn5KfOXqkEco/EP8Sawx/P/7Ugv4r6/B3n0CcY+Bz9/ynEMr7RqppoIGGfwPmmVDe3xX+PYYLaGT06fjjJfb7jQl9PnmcYyy/Hc3HPc0+of2va8bzRiiYJRQEXZFtampqaWlpbm4eGoKKp2NjYyQSaS5hQMPuf3eJzDG7ZNI/4kI71Nr/PyAd8wrUCv+749D8b3TPBoU8VwNUZHTbiEJ518TR5J4g3H952zS+uMr5DcwboWBskpaWtmfPnq1bt9rZ2e3atevYsWNZWVlmZmaNjVDpcY6ETSThcXio4T0HSz/vv/otgyQfXJX/Q/sYvxbAp+xxvBv+O79/RW6jUkhj+AnYB98LYi4ZQz2ScXjUSNXHIyWQ8PgZJrzmZKeI+hsuc97LgN56uwbGCZTfKIs/lh70jm1Qkh/fMfnoFU3vahxMjI4MQ2MUlH+Vwe152zYGf8+fP8/AwBAcHDztXl9fT09Pr6CgMDExgfxW66FShpL8/BqIlDf3/a9dugcPOCBvL+XAzNdQ3zNwCUeKyVdUzGwodcquz5RZz+nj7FMfz/j/5O3usy2czoxlUstgOkzsBWk0PyEgrwVu7pLJ0yl7l7qmLO5Mh0alTmnHYHFO3y0/nWbKtLYAZVIBB/PwNgvTlj5hCKMx4S+zq4fIw83+1o7ZQxQK8lb1hfq2WGbrwkwl623CKZTxhhJfG5ei8VkhTEdKQuWFBGenR/noSZm3ijjv9K6ZOcJSPqndMENJZeqr6eqZ3qCcUucZaK64HZwLr7vGPKBqRyM5/rsPXmodI01nCFOBmVYDmcoZZkl2dv1Olvnb9EwqJk35Bx9XpwYkVfZTqT2n9jtH5TeRpwN5r8mVJtw0N9LWNd0dnt0yo/kjA60FB2zN9fSMD3hHA8l8qCnF2cU1qw+La1762WeAeSAUTDY5derUN998U1kJ1XsxxROMRMzNzc+dO4f8xk1gWI00a/30w+MhpP7cbtf9Jwkg5AlsJ3+qOomEqSDeI6bpKdWUztu0TswEcZZnMnGc8I40TSHP7XY68sjY5BWbCKHFSeKXQ8nDUyGQPjZVI0xMTDHiZBxj6BGnmZiaO5FHRmcZsZnAjc400ETA4yamUz5pxGRAR0zu4N1SZKz+mAg31E3GT5rnmco98TebMuYTV5xwWFoCKp9PDM38gjg+Nh3pbRnWy4lV01kmfXRxjDpVGlTsbMus4ifPKo3REdysdKBoSr72C70pLCZUEY0EW86gi5LqvmtxU9WMH8L9xiT67XyESpmqXwqR8I4vCn5qduKt+otWQA2CdEhxi12MLn83TVO00VMWxsPwnfPlgBsu2gvXrs/rnz490L1fmoddY+/NG1fEFzPtCchCqINHrBUtTqFn6v6YCdTPCH+UULDFkZiYGDo6usxMqBqInRXEHgCJuLu7P30K7yr/+OosFQ2DeGO34cIfvt9g6hAbfFZGgYtNSp6LhVnf6g5qz2b47jFjVlY2Vha24z4p6EeTwsvTI6rM2jo83JzMqtv3n7DfyMvFwq9wIRMOHa+jvZhYWNjYWJVtT3aSEdJwjZOJBBsHGycHx64Lz0HXOe28lUuSVVyMm5VV3DkS3kNMQNkn0MNc88Bl1Lxqx7ltei7Xyvuq7wlys3NycoqpmhX3kpui7JZ888PyTdaZ/dTCuwc4YMqYLJxv4yYHPJhTXH2KrhAfGxs7J7vUiZv5UDGzPWWPIhMHBycLo/zTwvbU8NMC4gKiEvwXEitqnt/ZwMLOwcnBrORcOAjPhjqayHNxsrOyc1x7Xk2h9HhaanHxcDCz8JvdSAVpJEIDw6TYQNeli35cwSCfXZLvor2OfosOPzc7K5v5q1YgZxAjbbZzs7KxM/MZnnlOQk/0g1QNpoYZyZhmjiCE8gcCUluSgMCBy1BRs8vMTt2rTs+gqM3HxcbNZ1MyACqs65ShKsgzB5uQxZVkUNYhJvzeaXWgY8Ud3M3LwsbOwq1+LAL2JwoZZRBCwFlbYUlBYUmx+1X9DaFXxJlBsbDyG13oR5A8nyM8jPycQqKcrBxb7R6DpOAqErQ5uUCRsgpoB+WDPA/d8bbbZKanKaLJwcr9w08Ldx2/Dc+k4OFR6M5E783yBq/gYWDk1W0PflAu7GxsVleHcfXHdu/yioYnmLPCz2vvCSI2x+oe3KkssdHZ9oHv5T2CYvzC0jIxrWPl192E0PRI7LgOxoHGsCMSOps4xMXZmZmtT8R1FN7k/+GHnznUn1WUWSobnLvuraCpkdROAKVc88h906aL2CF08OeOBS/H4UhYzxND2S8TOqBRNdhmxhseM62XrkGppfPBDoaNh0CWJtJOCG81zEOV+/8liynzYGAJEAeY1IiKisKrOackzOm3dXV1nZ2Td3qDv2MNGR6HHfc5OAE4Ojk4OF6qGZq0ajPe8Vp+zcrref09Lz1Zf157PbW5NdlfaJXI3WZK2/1dy7nM35ARQlUQ23LRR8XouVeUoe6YrFrNb9880GImz7aA27Kyo/vCHpmNpq4jAwXrVrJA6xvIgKHw+j3+yaVpQZuNbQbBVDw7+OfVLI0T48663N9zmZf1DAQf12GS3QpbJRF2kJbAw0tXq6WPUYmVjzYu4XlWWryFf93u64mjo/37NXnE9lweH2jcvWL53oQeQvYVhvWbXzRQkImcTcw8bqFFCBSKIKWm2e+U3xsE8lXsbsUhYFlDJl43+JFH4Xjv6GiApcQGy5tRt6zp/rv6Qvir/oZkiYX0Zg8KRkdb9wtx8dk/SAnYT8+uCkKteuqpb3+oJt7tF3ap1CFk4FWoke7uPGhAkgSkNSKhQUdKas/FOBKlYxfHN/LWDwZHWxxY1+uFVNTfclm9QikNSDx1z8VWCLjGwKkKAcySejMVhDdeih/qiDIBY4D50zFC3H4GDY+2ztLtzN9qHYwZGqqxWLfe+kldtrv5Am7jV0Ojbc+vrfme16tgJNpc+FZpR9O9MwyLpWIASXRkbF7FY/MAnsZEbT+SLjpIff2jYGhGVWfeY9EfGE/ngJ7buYedU807K/ei+TffckSW97e/9F3zPY9XWpGbODfPvjujo6ORNhrfctq14vE3tgt8x6kVW9qW/fDUWjbt6iECegMs7MYpl/bp69uBoWWi7BHrt+scoqpH2zM5eYSDEp/v0lQ6GAjHj+c+zpybTxO7kpi//1H5+P2hwd7D5nzfLJR5UtT0JuEOz0+cN6tICLHOZB2LXmBTzyPrZT+tv1/cUXbXjZlZNalz8Dr/OuXzKURyq9pGdf+nSYcU2eUvFYCG6Sa8Tsf9CXXSjDHlptHan79asZmTa93SNY4XI8dIk5dVT9RH0S9a8rgZnsV+4WO8UsVtEFqWyZbjNghM60L+NYzyhwgFEzqKi4tB0wwNDUWmBJYPAjvHOd6Sd/zQXhubPTY2tnt229ja3mgaIk+Vdtt2FsZng0hzsKPNwRPoyaq63UYqJ57UhZjwfS+qfczD85Tb/oU/fHMgAtpSxggl0JT3bAo0TnfdWM7+bCR4yAs4pK/nnJcVsP4XHtsDx06f89Bc/rOsfQhC7nt2y/PQIVeHXZrfrWEtHOyx01R1uZ0NPimLPKcrZ4CauMPDaRWldjPvhhsJDcVR+1m1T3SnXxGQsa1HZyq9MUf4NLeXdfWf1WC+Uo7POaL+f8wb7d1OnTtznH3djyrHQtFyQa2Q9NXeuHza5ZirugAzu8L+hr46U3qW4GpUGBvr7+rsDT5tJWN6AvxsfXl5PZ8pZkt2oDCAU8AiJSN2E9s6ha12Zy/dLO9DCPWPddm5xBTM3S9df1nSjZYmGZ3+9VuqaHmElyGkxiMaQrHoAJ4WYCVnHeDtobuEW+r4qfNn3O0Flq/VdY0Hr/Bw+oU/bmBw1DvyyUEpXk4u+wPPHu1WdT73GNdV7KIrlYrOP55e2abucNvFSsfu8gs0UbjjWzV2nIsLt1MIe10RfM50IduGoyfPn/FwEmdYq7AHWuUgwNUk4nErFZMT0PRhQYTr18vW7zty6rTnYW1xRkE9r0BPC4u9V1DDguPu1pbWtnai0noZzWh8xFxRNpXE8uoLO/StDsO5RlOyL7vgrlG0PWHzwYhT29WMHEHZlTxyYxW3wyzoDnd397blWhtoHLsPqo6adOe4kNplYlc4N4NtFRxx8DY6MrbXYcYT/W2+WcOx3+3sGU8XJd7VolaRr3127z99CzUU81pXXfNmWt8zex6zQDCh69iyQSkovaHg7n7ejcfJ1EquZTyR6DE/lDfGz8iuXC1nWDeOtGadZPmW7m7xABWenwLvcEHmGmv5Je2ddy79+r8/yHgOwmGyWV1CxSsGrgNQ/x1X9M4Dobx69eqrr74Csx7kQ4SC2XNDpghloqvyXlBo0N3Qe6H37j2663c7umNkanOC2qDDwhg9jNT5Obkede+DM5DSnZqqp57U3pbh59hi6QmmT6dOHnc5k1Y7iKBLg+DvbV1e3yxIBWf0pWzPPAQfJV+31zY8VJx+g3Gx/PHTHidOnHR3OxyeUvzS156LcTMIIyDgBBcTT/Fwn52m9kGfdPBJ7j13pU1G0B4ZlYhHl1j898lpOTof3bThcNzo6FMnbmUHzEhvX6Qrr6pFSVe3hwrrjSZ8qpkqPZ8aiMXd09P9qNvjjAa0EGC/9bBV5ZTRdD9x0sNaY5OpQ3VnrTkja9gbWD7jvTWZ2cW3zxxUMPWhUKiNiV5MAnuw5aLujMssDGYNOELVq+grpz105ATYVXeUDVI6a17dvHRqt/rGNRsNX7QQQfNE7XP3bFfSOvmoDJlodFcVSUFNXyfd2K5oFnTluAabpNI5T3cPjxPHjng8zm2CCcPDHlR0224zD6vAGtfXGc/38LGwMG5+XNxNas05piWTCy2nUCLOGOvYBbnuMN2HWv0DmXbRULK5mB5hvzkstzzgpOF6UdmzJ6GtveNH3cLSahC4AQT+jB23srQ4Hk2hUjPvHVi0ns0NFL67u9tR15DM0rsHDa2dvdGmMHjU3GT3XicxWYusFpRQhhKFGDTSKmsvOmqYni0CLaE6yYddaPdMQrnnvm2zsSMo1uJHJzg27sVaVNPr7Kr6tJ2Kau63oPyVeHGnkMZNYttdbondeR1w2cVGd6vjNWiXJPrGzmXs/CdPoWk+cigkr+PVOTO3y35gikodStNW0PJP7g3fw211rw4QirKYkl9qKx5MnRQ3nHC3UFdza0PP3GGnHc+pMUk8fIMlwFGMyyupbrKhk0b7u+qT7p/3uPHgtrXkSlU4IkJC2ah8lUYocwRGKBkZGUBCSU5OhlQ9RSjYAkdaWlpSUhLmE5vyDFcmONjt2mNrv89+3z7H3VbWJ8p7YSuHvsmNGiuX+pUMVfrsczp4GA63hHILNSnX8P4GXwMGgX2DwKX5lrbUpqQ6WMMYodxSZ/FKhxV8UlN0pwcUEJKv2Sqr2TU1JqxfxhMNba9POJiqHH+Y7LdHWVD5PvCQc1Vz4Y9Lsjrad6moOHpDo1u5d49t3qiNWd8gk+EpR0rlQ5YV3yz4XqURRNKXysu6+tjdbDx+aL8qx2bHa0TqhNOmBRqP2oaeHWZep5IHbbJl7d6ywfc5JBRoqBgZkhFYbXkjGTwFOir8ImbUMDZ+bssiMXX/MfzAOXkhHqeA4POOkrrQ7sl4zTOhnxlPxFTh8W37RDj49z987LdXYccp8KrhxaUlouLBZ86KaTs2gd+14eyC7J7FkILRRcnubfJSOy7GUYZrjylyJ6KmhhOv6IlYP8y5sW8JtyFsyO1Z2mJaNzJgcRLRVW1qR4rAL3R0ir4USs8eATo6lh1vKAi5JvGgyoYsdN0o3ENjk31EtMc2JhGrygl82/MrS34W9KmeeGbM5VvSWhpwZBmLKjSrPVhsIq52Nh4WG2qAddx1u67xoQcwWRlBLL9w3oLWXYddZZUdHpbmX9mx6Bex53WjPcl+6xcI3cjKdxTmVDsajsfjI3Yr/1fMdQA/eMpK3tC9EObyxeXl69Wqh0nTU570q05GOjaAYsYKQlf/wHQkvWW8NpqLmfV+TuZeMS6jgwm4vnzBBf8V1AjEt9xh4rXKg6YyhneoqdqehxJK49PL9MtFIqCc0WEnvvnwi/6Ks4b7z3jDZjSUpiKrePNl96O9zKyHn5Eo7QqCchejaxEyzstB7qv//HDhST4F25FCp/AvLxqu4Dcu78fXxZ9fv5A3qYvQWRh79fqDweFaNX5Rb2hzs8tQepVtyEt4jQX+9Wbu7aEpXcgcbJ19GfhDhIKxRkVFBSCU2NhY8Dw+Pk5CD34jqNUlT0/PiYmJuajho++J/hZskiZ7HvtevH75MuwBEw1HD9mefQHqo+eMOct6ZhaW9fT7zj0aR0+6Y4TyeI9SaD6ULQJtjTx8YBoKQk/a7zwC5InMoINr1zGysjJJmx54g8P3Zt5XZmRiZWUz2bvTQHzDAedHnocOngmCRqGqn97YZ7IXtdeCmRQAT2OntkgbnIrFklb05BIfFwcnJ8cGHavCHpi7RO/tDBtMY/qJiWc3rVvPwsq8VnfX+S4gNkCDBLDD5z10F2RhZuXcaODoorKR9eijfEJHpoU4ExcXF6O0VW7/xIvbF0323cMK8lWIJxcTKwcnO4Oaaxmgq8YkfUkWADZ27n2heSRctdZmkXUsLOzs3Fttw+DSLxnbycXfcd3GzCqZUZQXYKOXhU7Kcu+7bjkRj5Dx1021mJhZWRk5VF3Dhico0OwQFbtBCHfCWMHpDmRSn8P6eq7QxCy+NtNrt1EhKkIkBjhpnc9CiK2OatKsnJzsbMJmNzMAfT3brRSU24xQSIF7TJiZWdkY2Tbtu90/TgY5xhLjdfjwgctJWI7Srh7hYmBiZWFiUT3WMoJPPrl76Q+L2AUFOJm4TD2eAe89rx/IsbJxcnAyCRsEl4Okj3gds3EOgvLOaH2CICPTjiPQRhkFD2dT4/n+fKpq0ZChKHE3XJlZObjYWczd75Ko1Lzrh4VZWPnEeNS3SBjtjSF1RStuPVUGpzw4N1vnk3dy0OZFjPWwZ2NkZmVm4jM83Y0jlV7de+V2GBQ6hwp32++7V4LvT/Wk51b0La05vH2vbxyUO+pDj/7wi2RCB7bZTJ3czCF1XdqzhY2Di42Z1z0YXktSEHxCQWVvK5WS5Ou0dj0TCwuTqu1F7FqOvuRTPJvVXqEN6088ufdPwh9dlIU3GBKJRkZG0tLSgE2mX9XU1Hh5eZWUoIsdnyTsfbzYJ3AjhE8VG8ljo+MzZ2EE3PjkFOzXR4wPvCPjh4dGP/iWNIEbx3/IEAFxYozw7sV64+P4D8dFHusfwM10HxsZHpuxzYkbHsLuG5o7COM4/B/brxwfHsIRJjMwM7XECdzEb15YRx6fLm2/XcoWB67BJGFZmAyNNDAwTJ0V/AcCQ7e+R07oyVtcipwsOyphgjizoAn4X+2tk2o1xLGxORfHcGf5qa3yGkbnR1FFmHeCnxgdGSPNDHsKpLER9DIp9Facrj3bRQ3OPUZQzYQ/VA2fD+bBYhvoKr29vVu3btXW1gZz1CtXrvj4+Ny5cwdjk0/SaERVlmYdLJzWOJu8EO99ddKpO7CnhVLqTI2pqW9mfkqd+oY6U6fqPdajzrhem/rO3tVsdawp/x9QW0DQQ+UzP0KmRivqDG26d33McJg0zPPW9s77Vldm6dVNB0ulzArhg1mbLooPhkCZkYXZRT3L/b3EzConTHko9vyBg2dDJ6AKGfmtItq7eZ6RS8pbcz5U9BZefEWI3YlrbeOkd6p3+n9T+mxv1e2olPfTg0xrDr4t4VkKdlguifcOa/MIqURnD7/PJ+/X1TvtDdsuwDUmHj6yN7MXVdj7V6yfQMyDYtt0VSUkJERFRYG/L1++xKO35H6abDLniP7IR39E8PyVA2G/fVLstxPw+1Xv57XE3ksT9SMv5vb1pM3YoYH+wTHqe/n/JNX7sYFRAnFqXPl9uZmrT3JbbU3Lx29xpM6hKeDHx3HDRJrq/e8BhUJ5v4Tnl01o+Jfjb9Hj+OMrqf+Opdi3mOfTxhg+yC80/JsxL/Zx/spG9a6p2N+b6b8swf8Q0Cy20UADDfMGGqHQQAMN8wYaodBAAw3zhv8Ht6bNB7q6bkoAAAAASUVORK5CYII=)"
      ]
    },
    {
      "cell_type": "code",
      "metadata": {
        "id": "-tyxlF-2A12h",
        "colab_type": "code",
        "colab": {}
      },
      "source": [
        "# Calculate all the components based on the above formula\n",
        "v=movies_cleaned_df['vote_count']\n",
        "R=movies_cleaned_df['vote_average']\n",
        "C=movies_cleaned_df['vote_average'].mean()\n",
        "m=movies_cleaned_df['vote_count'].quantile(0.70)"
      ],
      "execution_count": null,
      "outputs": []
    },
    {
      "cell_type": "code",
      "metadata": {
        "id": "zaHD6ztMBD5w",
        "colab_type": "code",
        "colab": {}
      },
      "source": [
        "movies_cleaned_df['weighted_average']=((R*v)+ (C*m))/(v+m)"
      ],
      "execution_count": null,
      "outputs": []
    },
    {
      "cell_type": "code",
      "metadata": {
        "id": "MC2KhfYKBGZE",
        "colab_type": "code",
        "colab": {
          "base_uri": "https://localhost:8080/",
          "height": 725
        },
        "outputId": "1683ca41-b73c-4d9e-ba57-c203168c0ab0"
      },
      "source": [
        "movies_cleaned_df.head(5)"
      ],
      "execution_count": null,
      "outputs": [
        {
          "output_type": "execute_result",
          "data": {
            "text/html": [
              "<div>\n",
              "<style scoped>\n",
              "    .dataframe tbody tr th:only-of-type {\n",
              "        vertical-align: middle;\n",
              "    }\n",
              "\n",
              "    .dataframe tbody tr th {\n",
              "        vertical-align: top;\n",
              "    }\n",
              "\n",
              "    .dataframe thead th {\n",
              "        text-align: right;\n",
              "    }\n",
              "</style>\n",
              "<table border=\"1\" class=\"dataframe\">\n",
              "  <thead>\n",
              "    <tr style=\"text-align: right;\">\n",
              "      <th></th>\n",
              "      <th>budget</th>\n",
              "      <th>genres</th>\n",
              "      <th>id</th>\n",
              "      <th>keywords</th>\n",
              "      <th>original_language</th>\n",
              "      <th>original_title</th>\n",
              "      <th>overview</th>\n",
              "      <th>popularity</th>\n",
              "      <th>production_companies</th>\n",
              "      <th>release_date</th>\n",
              "      <th>revenue</th>\n",
              "      <th>runtime</th>\n",
              "      <th>spoken_languages</th>\n",
              "      <th>tagline</th>\n",
              "      <th>vote_average</th>\n",
              "      <th>vote_count</th>\n",
              "      <th>cast</th>\n",
              "      <th>crew</th>\n",
              "      <th>weighted_average</th>\n",
              "    </tr>\n",
              "  </thead>\n",
              "  <tbody>\n",
              "    <tr>\n",
              "      <th>0</th>\n",
              "      <td>237000000</td>\n",
              "      <td>[{\"id\": 28, \"name\": \"Action\"}, {\"id\": 12, \"nam...</td>\n",
              "      <td>19995</td>\n",
              "      <td>[{\"id\": 1463, \"name\": \"culture clash\"}, {\"id\":...</td>\n",
              "      <td>en</td>\n",
              "      <td>Avatar</td>\n",
              "      <td>In the 22nd century, a paraplegic Marine is di...</td>\n",
              "      <td>150.437577</td>\n",
              "      <td>[{\"name\": \"Ingenious Film Partners\", \"id\": 289...</td>\n",
              "      <td>2009-12-10</td>\n",
              "      <td>2787965087</td>\n",
              "      <td>162.0</td>\n",
              "      <td>[{\"iso_639_1\": \"en\", \"name\": \"English\"}, {\"iso...</td>\n",
              "      <td>Enter the World of Pandora.</td>\n",
              "      <td>7.2</td>\n",
              "      <td>11800</td>\n",
              "      <td>[{\"cast_id\": 242, \"character\": \"Jake Sully\", \"...</td>\n",
              "      <td>[{\"credit_id\": \"52fe48009251416c750aca23\", \"de...</td>\n",
              "      <td>7.148013</td>\n",
              "    </tr>\n",
              "    <tr>\n",
              "      <th>1</th>\n",
              "      <td>300000000</td>\n",
              "      <td>[{\"id\": 12, \"name\": \"Adventure\"}, {\"id\": 14, \"...</td>\n",
              "      <td>285</td>\n",
              "      <td>[{\"id\": 270, \"name\": \"ocean\"}, {\"id\": 726, \"na...</td>\n",
              "      <td>en</td>\n",
              "      <td>Pirates of the Caribbean: At World's End</td>\n",
              "      <td>Captain Barbossa, long believed to be dead, ha...</td>\n",
              "      <td>139.082615</td>\n",
              "      <td>[{\"name\": \"Walt Disney Pictures\", \"id\": 2}, {\"...</td>\n",
              "      <td>2007-05-19</td>\n",
              "      <td>961000000</td>\n",
              "      <td>169.0</td>\n",
              "      <td>[{\"iso_639_1\": \"en\", \"name\": \"English\"}]</td>\n",
              "      <td>At the end of the world, the adventure begins.</td>\n",
              "      <td>6.9</td>\n",
              "      <td>4500</td>\n",
              "      <td>[{\"cast_id\": 4, \"character\": \"Captain Jack Spa...</td>\n",
              "      <td>[{\"credit_id\": \"52fe4232c3a36847f800b579\", \"de...</td>\n",
              "      <td>6.807627</td>\n",
              "    </tr>\n",
              "    <tr>\n",
              "      <th>2</th>\n",
              "      <td>245000000</td>\n",
              "      <td>[{\"id\": 28, \"name\": \"Action\"}, {\"id\": 12, \"nam...</td>\n",
              "      <td>206647</td>\n",
              "      <td>[{\"id\": 470, \"name\": \"spy\"}, {\"id\": 818, \"name...</td>\n",
              "      <td>en</td>\n",
              "      <td>Spectre</td>\n",
              "      <td>A cryptic message from Bond’s past sends him o...</td>\n",
              "      <td>107.376788</td>\n",
              "      <td>[{\"name\": \"Columbia Pictures\", \"id\": 5}, {\"nam...</td>\n",
              "      <td>2015-10-26</td>\n",
              "      <td>880674609</td>\n",
              "      <td>148.0</td>\n",
              "      <td>[{\"iso_639_1\": \"fr\", \"name\": \"Fran\\u00e7ais\"},...</td>\n",
              "      <td>A Plan No One Escapes</td>\n",
              "      <td>6.3</td>\n",
              "      <td>4466</td>\n",
              "      <td>[{\"cast_id\": 1, \"character\": \"James Bond\", \"cr...</td>\n",
              "      <td>[{\"credit_id\": \"54805967c3a36829b5002c41\", \"de...</td>\n",
              "      <td>6.276075</td>\n",
              "    </tr>\n",
              "    <tr>\n",
              "      <th>3</th>\n",
              "      <td>250000000</td>\n",
              "      <td>[{\"id\": 28, \"name\": \"Action\"}, {\"id\": 80, \"nam...</td>\n",
              "      <td>49026</td>\n",
              "      <td>[{\"id\": 849, \"name\": \"dc comics\"}, {\"id\": 853,...</td>\n",
              "      <td>en</td>\n",
              "      <td>The Dark Knight Rises</td>\n",
              "      <td>Following the death of District Attorney Harve...</td>\n",
              "      <td>112.312950</td>\n",
              "      <td>[{\"name\": \"Legendary Pictures\", \"id\": 923}, {\"...</td>\n",
              "      <td>2012-07-16</td>\n",
              "      <td>1084939099</td>\n",
              "      <td>165.0</td>\n",
              "      <td>[{\"iso_639_1\": \"en\", \"name\": \"English\"}]</td>\n",
              "      <td>The Legend Ends</td>\n",
              "      <td>7.6</td>\n",
              "      <td>9106</td>\n",
              "      <td>[{\"cast_id\": 2, \"character\": \"Bruce Wayne / Ba...</td>\n",
              "      <td>[{\"credit_id\": \"52fe4781c3a36847f81398c3\", \"de...</td>\n",
              "      <td>7.509565</td>\n",
              "    </tr>\n",
              "    <tr>\n",
              "      <th>4</th>\n",
              "      <td>260000000</td>\n",
              "      <td>[{\"id\": 28, \"name\": \"Action\"}, {\"id\": 12, \"nam...</td>\n",
              "      <td>49529</td>\n",
              "      <td>[{\"id\": 818, \"name\": \"based on novel\"}, {\"id\":...</td>\n",
              "      <td>en</td>\n",
              "      <td>John Carter</td>\n",
              "      <td>John Carter is a war-weary, former military ca...</td>\n",
              "      <td>43.926995</td>\n",
              "      <td>[{\"name\": \"Walt Disney Pictures\", \"id\": 2}]</td>\n",
              "      <td>2012-03-07</td>\n",
              "      <td>284139100</td>\n",
              "      <td>132.0</td>\n",
              "      <td>[{\"iso_639_1\": \"en\", \"name\": \"English\"}]</td>\n",
              "      <td>Lost in our world, found in another.</td>\n",
              "      <td>6.1</td>\n",
              "      <td>2124</td>\n",
              "      <td>[{\"cast_id\": 5, \"character\": \"John Carter\", \"c...</td>\n",
              "      <td>[{\"credit_id\": \"52fe479ac3a36847f813eaa3\", \"de...</td>\n",
              "      <td>6.098319</td>\n",
              "    </tr>\n",
              "  </tbody>\n",
              "</table>\n",
              "</div>"
            ],
            "text/plain": [
              "      budget  ... weighted_average\n",
              "0  237000000  ...         7.148013\n",
              "1  300000000  ...         6.807627\n",
              "2  245000000  ...         6.276075\n",
              "3  250000000  ...         7.509565\n",
              "4  260000000  ...         6.098319\n",
              "\n",
              "[5 rows x 19 columns]"
            ]
          },
          "metadata": {
            "tags": []
          },
          "execution_count": 16
        }
      ]
    },
    {
      "cell_type": "code",
      "metadata": {
        "id": "5y74Dv_fBXdX",
        "colab_type": "code",
        "colab": {
          "base_uri": "https://localhost:8080/",
          "height": 662
        },
        "outputId": "3bf587a0-e22b-4663-8e5d-cb2ceffffa40"
      },
      "source": [
        "movie_sorted_ranking=movies_cleaned_df.sort_values('weighted_average',ascending=False)\n",
        "movie_sorted_ranking[['original_title', 'vote_count', 'vote_average', 'weighted_average', 'popularity']].head(20)"
      ],
      "execution_count": null,
      "outputs": [
        {
          "output_type": "execute_result",
          "data": {
            "text/html": [
              "<div>\n",
              "<style scoped>\n",
              "    .dataframe tbody tr th:only-of-type {\n",
              "        vertical-align: middle;\n",
              "    }\n",
              "\n",
              "    .dataframe tbody tr th {\n",
              "        vertical-align: top;\n",
              "    }\n",
              "\n",
              "    .dataframe thead th {\n",
              "        text-align: right;\n",
              "    }\n",
              "</style>\n",
              "<table border=\"1\" class=\"dataframe\">\n",
              "  <thead>\n",
              "    <tr style=\"text-align: right;\">\n",
              "      <th></th>\n",
              "      <th>original_title</th>\n",
              "      <th>vote_count</th>\n",
              "      <th>vote_average</th>\n",
              "      <th>weighted_average</th>\n",
              "      <th>popularity</th>\n",
              "    </tr>\n",
              "  </thead>\n",
              "  <tbody>\n",
              "    <tr>\n",
              "      <th>1881</th>\n",
              "      <td>The Shawshank Redemption</td>\n",
              "      <td>8205</td>\n",
              "      <td>8.5</td>\n",
              "      <td>8.340775</td>\n",
              "      <td>136.747729</td>\n",
              "    </tr>\n",
              "    <tr>\n",
              "      <th>3337</th>\n",
              "      <td>The Godfather</td>\n",
              "      <td>5893</td>\n",
              "      <td>8.4</td>\n",
              "      <td>8.192887</td>\n",
              "      <td>143.659698</td>\n",
              "    </tr>\n",
              "    <tr>\n",
              "      <th>662</th>\n",
              "      <td>Fight Club</td>\n",
              "      <td>9413</td>\n",
              "      <td>8.3</td>\n",
              "      <td>8.171648</td>\n",
              "      <td>146.757391</td>\n",
              "    </tr>\n",
              "    <tr>\n",
              "      <th>3232</th>\n",
              "      <td>Pulp Fiction</td>\n",
              "      <td>8428</td>\n",
              "      <td>8.3</td>\n",
              "      <td>8.157615</td>\n",
              "      <td>121.463076</td>\n",
              "    </tr>\n",
              "    <tr>\n",
              "      <th>65</th>\n",
              "      <td>The Dark Knight</td>\n",
              "      <td>12002</td>\n",
              "      <td>8.2</td>\n",
              "      <td>8.102674</td>\n",
              "      <td>187.322927</td>\n",
              "    </tr>\n",
              "    <tr>\n",
              "      <th>809</th>\n",
              "      <td>Forrest Gump</td>\n",
              "      <td>7927</td>\n",
              "      <td>8.2</td>\n",
              "      <td>8.056059</td>\n",
              "      <td>138.133331</td>\n",
              "    </tr>\n",
              "    <tr>\n",
              "      <th>1818</th>\n",
              "      <td>Schindler's List</td>\n",
              "      <td>4329</td>\n",
              "      <td>8.3</td>\n",
              "      <td>8.038748</td>\n",
              "      <td>104.469351</td>\n",
              "    </tr>\n",
              "    <tr>\n",
              "      <th>3865</th>\n",
              "      <td>Whiplash</td>\n",
              "      <td>4254</td>\n",
              "      <td>8.3</td>\n",
              "      <td>8.034695</td>\n",
              "      <td>192.528841</td>\n",
              "    </tr>\n",
              "    <tr>\n",
              "      <th>96</th>\n",
              "      <td>Inception</td>\n",
              "      <td>13752</td>\n",
              "      <td>8.1</td>\n",
              "      <td>8.018611</td>\n",
              "      <td>167.583710</td>\n",
              "    </tr>\n",
              "    <tr>\n",
              "      <th>1990</th>\n",
              "      <td>The Empire Strikes Back</td>\n",
              "      <td>5879</td>\n",
              "      <td>8.2</td>\n",
              "      <td>8.010426</td>\n",
              "      <td>78.517830</td>\n",
              "    </tr>\n",
              "    <tr>\n",
              "      <th>2294</th>\n",
              "      <td>千と千尋の神隠し</td>\n",
              "      <td>3840</td>\n",
              "      <td>8.3</td>\n",
              "      <td>8.009851</td>\n",
              "      <td>118.968562</td>\n",
              "    </tr>\n",
              "    <tr>\n",
              "      <th>95</th>\n",
              "      <td>Interstellar</td>\n",
              "      <td>10867</td>\n",
              "      <td>8.1</td>\n",
              "      <td>7.998100</td>\n",
              "      <td>724.247784</td>\n",
              "    </tr>\n",
              "    <tr>\n",
              "      <th>2731</th>\n",
              "      <td>The Godfather: Part II</td>\n",
              "      <td>3338</td>\n",
              "      <td>8.3</td>\n",
              "      <td>7.972685</td>\n",
              "      <td>105.792936</td>\n",
              "    </tr>\n",
              "    <tr>\n",
              "      <th>329</th>\n",
              "      <td>The Lord of the Rings: The Return of the King</td>\n",
              "      <td>8064</td>\n",
              "      <td>8.1</td>\n",
              "      <td>7.965061</td>\n",
              "      <td>123.630332</td>\n",
              "    </tr>\n",
              "    <tr>\n",
              "      <th>2912</th>\n",
              "      <td>Star Wars</td>\n",
              "      <td>6624</td>\n",
              "      <td>8.1</td>\n",
              "      <td>7.938092</td>\n",
              "      <td>126.393695</td>\n",
              "    </tr>\n",
              "    <tr>\n",
              "      <th>690</th>\n",
              "      <td>The Green Mile</td>\n",
              "      <td>4048</td>\n",
              "      <td>8.2</td>\n",
              "      <td>7.935440</td>\n",
              "      <td>103.698022</td>\n",
              "    </tr>\n",
              "    <tr>\n",
              "      <th>1553</th>\n",
              "      <td>Se7en</td>\n",
              "      <td>5765</td>\n",
              "      <td>8.1</td>\n",
              "      <td>7.916176</td>\n",
              "      <td>79.579532</td>\n",
              "    </tr>\n",
              "    <tr>\n",
              "      <th>262</th>\n",
              "      <td>The Lord of the Rings: The Fellowship of the Ring</td>\n",
              "      <td>8705</td>\n",
              "      <td>8.0</td>\n",
              "      <td>7.880632</td>\n",
              "      <td>138.049577</td>\n",
              "    </tr>\n",
              "    <tr>\n",
              "      <th>1847</th>\n",
              "      <td>GoodFellas</td>\n",
              "      <td>3128</td>\n",
              "      <td>8.2</td>\n",
              "      <td>7.869817</td>\n",
              "      <td>63.654244</td>\n",
              "    </tr>\n",
              "    <tr>\n",
              "      <th>2091</th>\n",
              "      <td>The Silence of the Lambs</td>\n",
              "      <td>4443</td>\n",
              "      <td>8.1</td>\n",
              "      <td>7.867805</td>\n",
              "      <td>18.174804</td>\n",
              "    </tr>\n",
              "  </tbody>\n",
              "</table>\n",
              "</div>"
            ],
            "text/plain": [
              "                                         original_title  ...  popularity\n",
              "1881                           The Shawshank Redemption  ...  136.747729\n",
              "3337                                      The Godfather  ...  143.659698\n",
              "662                                          Fight Club  ...  146.757391\n",
              "3232                                       Pulp Fiction  ...  121.463076\n",
              "65                                      The Dark Knight  ...  187.322927\n",
              "809                                        Forrest Gump  ...  138.133331\n",
              "1818                                   Schindler's List  ...  104.469351\n",
              "3865                                           Whiplash  ...  192.528841\n",
              "96                                            Inception  ...  167.583710\n",
              "1990                            The Empire Strikes Back  ...   78.517830\n",
              "2294                                           千と千尋の神隠し  ...  118.968562\n",
              "95                                         Interstellar  ...  724.247784\n",
              "2731                             The Godfather: Part II  ...  105.792936\n",
              "329       The Lord of the Rings: The Return of the King  ...  123.630332\n",
              "2912                                          Star Wars  ...  126.393695\n",
              "690                                      The Green Mile  ...  103.698022\n",
              "1553                                              Se7en  ...   79.579532\n",
              "262   The Lord of the Rings: The Fellowship of the Ring  ...  138.049577\n",
              "1847                                         GoodFellas  ...   63.654244\n",
              "2091                           The Silence of the Lambs  ...   18.174804\n",
              "\n",
              "[20 rows x 5 columns]"
            ]
          },
          "metadata": {
            "tags": []
          },
          "execution_count": 17
        }
      ]
    },
    {
      "cell_type": "markdown",
      "metadata": {
        "id": "V3PGcRunCgmG",
        "colab_type": "text"
      },
      "source": [
        "**Best movies by average votes**"
      ]
    },
    {
      "cell_type": "code",
      "metadata": {
        "id": "q1uHam93Cjui",
        "colab_type": "code",
        "colab": {
          "base_uri": "https://localhost:8080/",
          "height": 459
        },
        "outputId": "28156012-ee39-4b83-efa9-fa20bed2c55a"
      },
      "source": [
        "import matplotlib.pyplot as plt\n",
        "import seaborn as sns\n",
        "\n",
        "weight_average=movie_sorted_ranking.sort_values('weighted_average',ascending=False)\n",
        "plt.figure(figsize=(12,6))\n",
        "axis1=sns.barplot(x=weight_average['weighted_average'].head(10), y=weight_average['original_title'].head(10), data=weight_average)\n",
        "plt.xlim(4, 10)\n",
        "plt.title('Best Movies by average votes', weight='bold')\n",
        "plt.xlabel('Weighted Average Score', weight='bold')\n",
        "plt.ylabel('Movie Title', weight='bold')\n",
        "plt.savefig('best_movies.png')"
      ],
      "execution_count": null,
      "outputs": [
        {
          "output_type": "stream",
          "text": [
            "/usr/local/lib/python3.6/dist-packages/statsmodels/tools/_testing.py:19: FutureWarning: pandas.util.testing is deprecated. Use the functions in the public API at pandas.testing instead.\n",
            "  import pandas.util.testing as tm\n"
          ],
          "name": "stderr"
        },
        {
          "output_type": "display_data",
          "data": {
            "image/png": "[encoded data removed]",
            "text/plain": [
              "<Figure size 864x432 with 1 Axes>"
            ]
          },
          "metadata": {
            "tags": [],
            "needs_background": "light"
          }
        }
      ]
    },
    {
      "cell_type": "markdown",
      "metadata": {
        "id": "Ni8dtw8iDnsU",
        "colab_type": "text"
      },
      "source": [
        "**Best movies by popularity**"
      ]
    },
    {
      "cell_type": "code",
      "metadata": {
        "id": "TWXI9F70DtNZ",
        "colab_type": "code",
        "colab": {
          "base_uri": "https://localhost:8080/",
          "height": 404
        },
        "outputId": "848a9f35-11df-4633-eeae-def4cdf1f85f"
      },
      "source": [
        "popularity=movie_sorted_ranking.sort_values('popularity',ascending=False)\n",
        "plt.figure(figsize=(12,6))\n",
        "ax=sns.barplot(x=popularity['popularity'].head(10), y=popularity['original_title'].head(10), data=popularity)\n",
        "\n",
        "plt.title('Most Popular by Votes', weight='bold')\n",
        "plt.xlabel('Score of Popularity', weight='bold')\n",
        "plt.ylabel('Movie Title', weight='bold')\n",
        "plt.savefig('best_popular_movies.png')"
      ],
      "execution_count": null,
      "outputs": [
        {
          "output_type": "display_data",
          "data": {
            "image/png": "[encoded data removed]",
            "text/plain": [
              "<Figure size 864x432 with 1 Axes>"
            ]
          },
          "metadata": {
            "tags": [],
            "needs_background": "light"
          }
        }
      ]
    },
    {
      "cell_type": "markdown",
      "metadata": {
        "id": "JMwBn2oDEyMI",
        "colab_type": "text"
      },
      "source": [
        "**Recommendation based on scaled weighted average and popularity score(Priority is given 50% to both)**"
      ]
    },
    {
      "cell_type": "code",
      "metadata": {
        "id": "IwFN7sF3E0mi",
        "colab_type": "code",
        "colab": {
          "base_uri": "https://localhost:8080/",
          "height": 202
        },
        "outputId": "481ef977-72e2-4bed-e4fc-a81d593ce909"
      },
      "source": [
        "from sklearn.preprocessing import MinMaxScaler\n",
        "\n",
        "scaling=MinMaxScaler()\n",
        "movie_scaled_df=scaling.fit_transform(movies_cleaned_df[['weighted_average','popularity']])\n",
        "movie_normalized_df=pd.DataFrame(movie_scaled_df,columns=['weighted_average','popularity'])\n",
        "movie_normalized_df.head()\n",
        "#Scaling will transform the value into 0 to 1 range."
      ],
      "execution_count": null,
      "outputs": [
        {
          "output_type": "execute_result",
          "data": {
            "text/html": [
              "<div>\n",
              "<style scoped>\n",
              "    .dataframe tbody tr th:only-of-type {\n",
              "        vertical-align: middle;\n",
              "    }\n",
              "\n",
              "    .dataframe tbody tr th {\n",
              "        vertical-align: top;\n",
              "    }\n",
              "\n",
              "    .dataframe thead th {\n",
              "        text-align: right;\n",
              "    }\n",
              "</style>\n",
              "<table border=\"1\" class=\"dataframe\">\n",
              "  <thead>\n",
              "    <tr style=\"text-align: right;\">\n",
              "      <th></th>\n",
              "      <th>weighted_average</th>\n",
              "      <th>popularity</th>\n",
              "    </tr>\n",
              "  </thead>\n",
              "  <tbody>\n",
              "    <tr>\n",
              "      <th>0</th>\n",
              "      <td>0.674339</td>\n",
              "      <td>0.171815</td>\n",
              "    </tr>\n",
              "    <tr>\n",
              "      <th>1</th>\n",
              "      <td>0.581403</td>\n",
              "      <td>0.158846</td>\n",
              "    </tr>\n",
              "    <tr>\n",
              "      <th>2</th>\n",
              "      <td>0.436273</td>\n",
              "      <td>0.122635</td>\n",
              "    </tr>\n",
              "    <tr>\n",
              "      <th>3</th>\n",
              "      <td>0.773054</td>\n",
              "      <td>0.128272</td>\n",
              "    </tr>\n",
              "    <tr>\n",
              "      <th>4</th>\n",
              "      <td>0.387739</td>\n",
              "      <td>0.050169</td>\n",
              "    </tr>\n",
              "  </tbody>\n",
              "</table>\n",
              "</div>"
            ],
            "text/plain": [
              "   weighted_average  popularity\n",
              "0          0.674339    0.171815\n",
              "1          0.581403    0.158846\n",
              "2          0.436273    0.122635\n",
              "3          0.773054    0.128272\n",
              "4          0.387739    0.050169"
            ]
          },
          "metadata": {
            "tags": []
          },
          "execution_count": 23
        }
      ]
    },
    {
      "cell_type": "code",
      "metadata": {
        "id": "mTcPsC_6E8F0",
        "colab_type": "code",
        "colab": {}
      },
      "source": [
        "movies_cleaned_df[['normalized_weight_average','normalized_popularity']]= movie_normalized_df #append the scaling values into the cleaned data frame"
      ],
      "execution_count": null,
      "outputs": []
    },
    {
      "cell_type": "code",
      "metadata": {
        "id": "Ia4dKCEFFYn_",
        "colab_type": "code",
        "colab": {
          "base_uri": "https://localhost:8080/",
          "height": 725
        },
        "outputId": "d9547b4d-665c-4324-f6c9-295c3e86b34a"
      },
      "source": [
        "movies_cleaned_df.head(5)"
      ],
      "execution_count": null,
      "outputs": [
        {
          "output_type": "execute_result",
          "data": {
            "text/html": [
              "<div>\n",
              "<style scoped>\n",
              "    .dataframe tbody tr th:only-of-type {\n",
              "        vertical-align: middle;\n",
              "    }\n",
              "\n",
              "    .dataframe tbody tr th {\n",
              "        vertical-align: top;\n",
              "    }\n",
              "\n",
              "    .dataframe thead th {\n",
              "        text-align: right;\n",
              "    }\n",
              "</style>\n",
              "<table border=\"1\" class=\"dataframe\">\n",
              "  <thead>\n",
              "    <tr style=\"text-align: right;\">\n",
              "      <th></th>\n",
              "      <th>budget</th>\n",
              "      <th>genres</th>\n",
              "      <th>id</th>\n",
              "      <th>keywords</th>\n",
              "      <th>original_language</th>\n",
              "      <th>original_title</th>\n",
              "      <th>overview</th>\n",
              "      <th>popularity</th>\n",
              "      <th>production_companies</th>\n",
              "      <th>release_date</th>\n",
              "      <th>revenue</th>\n",
              "      <th>runtime</th>\n",
              "      <th>spoken_languages</th>\n",
              "      <th>tagline</th>\n",
              "      <th>vote_average</th>\n",
              "      <th>vote_count</th>\n",
              "      <th>cast</th>\n",
              "      <th>crew</th>\n",
              "      <th>weighted_average</th>\n",
              "      <th>normalized_weight_average</th>\n",
              "      <th>normalized_popularity</th>\n",
              "    </tr>\n",
              "  </thead>\n",
              "  <tbody>\n",
              "    <tr>\n",
              "      <th>0</th>\n",
              "      <td>237000000</td>\n",
              "      <td>[{\"id\": 28, \"name\": \"Action\"}, {\"id\": 12, \"nam...</td>\n",
              "      <td>19995</td>\n",
              "      <td>[{\"id\": 1463, \"name\": \"culture clash\"}, {\"id\":...</td>\n",
              "      <td>en</td>\n",
              "      <td>Avatar</td>\n",
              "      <td>In the 22nd century, a paraplegic Marine is di...</td>\n",
              "      <td>150.437577</td>\n",
              "      <td>[{\"name\": \"Ingenious Film Partners\", \"id\": 289...</td>\n",
              "      <td>2009-12-10</td>\n",
              "      <td>2787965087</td>\n",
              "      <td>162.0</td>\n",
              "      <td>[{\"iso_639_1\": \"en\", \"name\": \"English\"}, {\"iso...</td>\n",
              "      <td>Enter the World of Pandora.</td>\n",
              "      <td>7.2</td>\n",
              "      <td>11800</td>\n",
              "      <td>[{\"cast_id\": 242, \"character\": \"Jake Sully\", \"...</td>\n",
              "      <td>[{\"credit_id\": \"52fe48009251416c750aca23\", \"de...</td>\n",
              "      <td>7.148013</td>\n",
              "      <td>0.674339</td>\n",
              "      <td>0.171815</td>\n",
              "    </tr>\n",
              "    <tr>\n",
              "      <th>1</th>\n",
              "      <td>300000000</td>\n",
              "      <td>[{\"id\": 12, \"name\": \"Adventure\"}, {\"id\": 14, \"...</td>\n",
              "      <td>285</td>\n",
              "      <td>[{\"id\": 270, \"name\": \"ocean\"}, {\"id\": 726, \"na...</td>\n",
              "      <td>en</td>\n",
              "      <td>Pirates of the Caribbean: At World's End</td>\n",
              "      <td>Captain Barbossa, long believed to be dead, ha...</td>\n",
              "      <td>139.082615</td>\n",
              "      <td>[{\"name\": \"Walt Disney Pictures\", \"id\": 2}, {\"...</td>\n",
              "      <td>2007-05-19</td>\n",
              "      <td>961000000</td>\n",
              "      <td>169.0</td>\n",
              "      <td>[{\"iso_639_1\": \"en\", \"name\": \"English\"}]</td>\n",
              "      <td>At the end of the world, the adventure begins.</td>\n",
              "      <td>6.9</td>\n",
              "      <td>4500</td>\n",
              "      <td>[{\"cast_id\": 4, \"character\": \"Captain Jack Spa...</td>\n",
              "      <td>[{\"credit_id\": \"52fe4232c3a36847f800b579\", \"de...</td>\n",
              "      <td>6.807627</td>\n",
              "      <td>0.581403</td>\n",
              "      <td>0.158846</td>\n",
              "    </tr>\n",
              "    <tr>\n",
              "      <th>2</th>\n",
              "      <td>245000000</td>\n",
              "      <td>[{\"id\": 28, \"name\": \"Action\"}, {\"id\": 12, \"nam...</td>\n",
              "      <td>206647</td>\n",
              "      <td>[{\"id\": 470, \"name\": \"spy\"}, {\"id\": 818, \"name...</td>\n",
              "      <td>en</td>\n",
              "      <td>Spectre</td>\n",
              "      <td>A cryptic message from Bond’s past sends him o...</td>\n",
              "      <td>107.376788</td>\n",
              "      <td>[{\"name\": \"Columbia Pictures\", \"id\": 5}, {\"nam...</td>\n",
              "      <td>2015-10-26</td>\n",
              "      <td>880674609</td>\n",
              "      <td>148.0</td>\n",
              "      <td>[{\"iso_639_1\": \"fr\", \"name\": \"Fran\\u00e7ais\"},...</td>\n",
              "      <td>A Plan No One Escapes</td>\n",
              "      <td>6.3</td>\n",
              "      <td>4466</td>\n",
              "      <td>[{\"cast_id\": 1, \"character\": \"James Bond\", \"cr...</td>\n",
              "      <td>[{\"credit_id\": \"54805967c3a36829b5002c41\", \"de...</td>\n",
              "      <td>6.276075</td>\n",
              "      <td>0.436273</td>\n",
              "      <td>0.122635</td>\n",
              "    </tr>\n",
              "    <tr>\n",
              "      <th>3</th>\n",
              "      <td>250000000</td>\n",
              "      <td>[{\"id\": 28, \"name\": \"Action\"}, {\"id\": 80, \"nam...</td>\n",
              "      <td>49026</td>\n",
              "      <td>[{\"id\": 849, \"name\": \"dc comics\"}, {\"id\": 853,...</td>\n",
              "      <td>en</td>\n",
              "      <td>The Dark Knight Rises</td>\n",
              "      <td>Following the death of District Attorney Harve...</td>\n",
              "      <td>112.312950</td>\n",
              "      <td>[{\"name\": \"Legendary Pictures\", \"id\": 923}, {\"...</td>\n",
              "      <td>2012-07-16</td>\n",
              "      <td>1084939099</td>\n",
              "      <td>165.0</td>\n",
              "      <td>[{\"iso_639_1\": \"en\", \"name\": \"English\"}]</td>\n",
              "      <td>The Legend Ends</td>\n",
              "      <td>7.6</td>\n",
              "      <td>9106</td>\n",
              "      <td>[{\"cast_id\": 2, \"character\": \"Bruce Wayne / Ba...</td>\n",
              "      <td>[{\"credit_id\": \"52fe4781c3a36847f81398c3\", \"de...</td>\n",
              "      <td>7.509565</td>\n",
              "      <td>0.773054</td>\n",
              "      <td>0.128272</td>\n",
              "    </tr>\n",
              "    <tr>\n",
              "      <th>4</th>\n",
              "      <td>260000000</td>\n",
              "      <td>[{\"id\": 28, \"name\": \"Action\"}, {\"id\": 12, \"nam...</td>\n",
              "      <td>49529</td>\n",
              "      <td>[{\"id\": 818, \"name\": \"based on novel\"}, {\"id\":...</td>\n",
              "      <td>en</td>\n",
              "      <td>John Carter</td>\n",
              "      <td>John Carter is a war-weary, former military ca...</td>\n",
              "      <td>43.926995</td>\n",
              "      <td>[{\"name\": \"Walt Disney Pictures\", \"id\": 2}]</td>\n",
              "      <td>2012-03-07</td>\n",
              "      <td>284139100</td>\n",
              "      <td>132.0</td>\n",
              "      <td>[{\"iso_639_1\": \"en\", \"name\": \"English\"}]</td>\n",
              "      <td>Lost in our world, found in another.</td>\n",
              "      <td>6.1</td>\n",
              "      <td>2124</td>\n",
              "      <td>[{\"cast_id\": 5, \"character\": \"John Carter\", \"c...</td>\n",
              "      <td>[{\"credit_id\": \"52fe479ac3a36847f813eaa3\", \"de...</td>\n",
              "      <td>6.098319</td>\n",
              "      <td>0.387739</td>\n",
              "      <td>0.050169</td>\n",
              "    </tr>\n",
              "  </tbody>\n",
              "</table>\n",
              "</div>"
            ],
            "text/plain": [
              "      budget  ... normalized_popularity\n",
              "0  237000000  ...              0.171815\n",
              "1  300000000  ...              0.158846\n",
              "2  245000000  ...              0.122635\n",
              "3  250000000  ...              0.128272\n",
              "4  260000000  ...              0.050169\n",
              "\n",
              "[5 rows x 21 columns]"
            ]
          },
          "metadata": {
            "tags": []
          },
          "execution_count": 25
        }
      ]
    },
    {
      "cell_type": "code",
      "metadata": {
        "id": "lp8frGwfGMR1",
        "colab_type": "code",
        "colab": {
          "base_uri": "https://localhost:8080/",
          "height": 662
        },
        "outputId": "9b06f6a6-a024-42c2-dc68-e1bd0688bb3c"
      },
      "source": [
        "movies_cleaned_df['score'] = movies_cleaned_df['normalized_weight_average'] * 0.5 + movies_cleaned_df['normalized_popularity'] * 0.5\n",
        "movies_scored_df = movies_cleaned_df.sort_values(['score'], ascending=False)\n",
        "movies_scored_df[['original_title', 'normalized_weight_average', 'normalized_popularity', 'score']].head(20)"
      ],
      "execution_count": null,
      "outputs": [
        {
          "output_type": "execute_result",
          "data": {
            "text/html": [
              "<div>\n",
              "<style scoped>\n",
              "    .dataframe tbody tr th:only-of-type {\n",
              "        vertical-align: middle;\n",
              "    }\n",
              "\n",
              "    .dataframe tbody tr th {\n",
              "        vertical-align: top;\n",
              "    }\n",
              "\n",
              "    .dataframe thead th {\n",
              "        text-align: right;\n",
              "    }\n",
              "</style>\n",
              "<table border=\"1\" class=\"dataframe\">\n",
              "  <thead>\n",
              "    <tr style=\"text-align: right;\">\n",
              "      <th></th>\n",
              "      <th>original_title</th>\n",
              "      <th>normalized_weight_average</th>\n",
              "      <th>normalized_popularity</th>\n",
              "      <th>score</th>\n",
              "    </tr>\n",
              "  </thead>\n",
              "  <tbody>\n",
              "    <tr>\n",
              "      <th>95</th>\n",
              "      <td>Interstellar</td>\n",
              "      <td>0.906439</td>\n",
              "      <td>0.827162</td>\n",
              "      <td>0.866801</td>\n",
              "    </tr>\n",
              "    <tr>\n",
              "      <th>546</th>\n",
              "      <td>Minions</td>\n",
              "      <td>0.460630</td>\n",
              "      <td>1.000000</td>\n",
              "      <td>0.730315</td>\n",
              "    </tr>\n",
              "    <tr>\n",
              "      <th>94</th>\n",
              "      <td>Guardians of the Galaxy</td>\n",
              "      <td>0.851874</td>\n",
              "      <td>0.549462</td>\n",
              "      <td>0.700668</td>\n",
              "    </tr>\n",
              "    <tr>\n",
              "      <th>788</th>\n",
              "      <td>Deadpool</td>\n",
              "      <td>0.725217</td>\n",
              "      <td>0.587690</td>\n",
              "      <td>0.656453</td>\n",
              "    </tr>\n",
              "    <tr>\n",
              "      <th>127</th>\n",
              "      <td>Mad Max: Fury Road</td>\n",
              "      <td>0.670973</td>\n",
              "      <td>0.495989</td>\n",
              "      <td>0.583481</td>\n",
              "    </tr>\n",
              "    <tr>\n",
              "      <th>1881</th>\n",
              "      <td>The Shawshank Redemption</td>\n",
              "      <td>1.000000</td>\n",
              "      <td>0.156179</td>\n",
              "      <td>0.578090</td>\n",
              "    </tr>\n",
              "    <tr>\n",
              "      <th>65</th>\n",
              "      <td>The Dark Knight</td>\n",
              "      <td>0.934991</td>\n",
              "      <td>0.213941</td>\n",
              "      <td>0.574466</td>\n",
              "    </tr>\n",
              "    <tr>\n",
              "      <th>3865</th>\n",
              "      <td>Whiplash</td>\n",
              "      <td>0.916431</td>\n",
              "      <td>0.219887</td>\n",
              "      <td>0.568159</td>\n",
              "    </tr>\n",
              "    <tr>\n",
              "      <th>3337</th>\n",
              "      <td>The Godfather</td>\n",
              "      <td>0.959622</td>\n",
              "      <td>0.164074</td>\n",
              "      <td>0.561848</td>\n",
              "    </tr>\n",
              "    <tr>\n",
              "      <th>662</th>\n",
              "      <td>Fight Club</td>\n",
              "      <td>0.953823</td>\n",
              "      <td>0.167611</td>\n",
              "      <td>0.560717</td>\n",
              "    </tr>\n",
              "    <tr>\n",
              "      <th>96</th>\n",
              "      <td>Inception</td>\n",
              "      <td>0.912039</td>\n",
              "      <td>0.191397</td>\n",
              "      <td>0.551718</td>\n",
              "    </tr>\n",
              "    <tr>\n",
              "      <th>3232</th>\n",
              "      <td>Pulp Fiction</td>\n",
              "      <td>0.949991</td>\n",
              "      <td>0.138723</td>\n",
              "      <td>0.544357</td>\n",
              "    </tr>\n",
              "    <tr>\n",
              "      <th>809</th>\n",
              "      <td>Forrest Gump</td>\n",
              "      <td>0.922264</td>\n",
              "      <td>0.157762</td>\n",
              "      <td>0.540013</td>\n",
              "    </tr>\n",
              "    <tr>\n",
              "      <th>199</th>\n",
              "      <td>Pirates of the Caribbean: The Curse of the Bla...</td>\n",
              "      <td>0.740925</td>\n",
              "      <td>0.310620</td>\n",
              "      <td>0.525772</td>\n",
              "    </tr>\n",
              "    <tr>\n",
              "      <th>2294</th>\n",
              "      <td>千と千尋の神隠し</td>\n",
              "      <td>0.909647</td>\n",
              "      <td>0.135874</td>\n",
              "      <td>0.522761</td>\n",
              "    </tr>\n",
              "    <tr>\n",
              "      <th>88</th>\n",
              "      <td>Big Hero 6</td>\n",
              "      <td>0.812013</td>\n",
              "      <td>0.232685</td>\n",
              "      <td>0.522349</td>\n",
              "    </tr>\n",
              "    <tr>\n",
              "      <th>329</th>\n",
              "      <td>The Lord of the Rings: The Return of the King</td>\n",
              "      <td>0.897418</td>\n",
              "      <td>0.141198</td>\n",
              "      <td>0.519308</td>\n",
              "    </tr>\n",
              "    <tr>\n",
              "      <th>1818</th>\n",
              "      <td>Schindler's List</td>\n",
              "      <td>0.917537</td>\n",
              "      <td>0.119314</td>\n",
              "      <td>0.518426</td>\n",
              "    </tr>\n",
              "    <tr>\n",
              "      <th>2912</th>\n",
              "      <td>Star Wars</td>\n",
              "      <td>0.890055</td>\n",
              "      <td>0.144354</td>\n",
              "      <td>0.517204</td>\n",
              "    </tr>\n",
              "    <tr>\n",
              "      <th>262</th>\n",
              "      <td>The Lord of the Rings: The Fellowship of the Ring</td>\n",
              "      <td>0.874367</td>\n",
              "      <td>0.157666</td>\n",
              "      <td>0.516016</td>\n",
              "    </tr>\n",
              "  </tbody>\n",
              "</table>\n",
              "</div>"
            ],
            "text/plain": [
              "                                         original_title  ...     score\n",
              "95                                         Interstellar  ...  0.866801\n",
              "546                                             Minions  ...  0.730315\n",
              "94                              Guardians of the Galaxy  ...  0.700668\n",
              "788                                            Deadpool  ...  0.656453\n",
              "127                                  Mad Max: Fury Road  ...  0.583481\n",
              "1881                           The Shawshank Redemption  ...  0.578090\n",
              "65                                      The Dark Knight  ...  0.574466\n",
              "3865                                           Whiplash  ...  0.568159\n",
              "3337                                      The Godfather  ...  0.561848\n",
              "662                                          Fight Club  ...  0.560717\n",
              "96                                            Inception  ...  0.551718\n",
              "3232                                       Pulp Fiction  ...  0.544357\n",
              "809                                        Forrest Gump  ...  0.540013\n",
              "199   Pirates of the Caribbean: The Curse of the Bla...  ...  0.525772\n",
              "2294                                           千と千尋の神隠し  ...  0.522761\n",
              "88                                           Big Hero 6  ...  0.522349\n",
              "329       The Lord of the Rings: The Return of the King  ...  0.519308\n",
              "1818                                   Schindler's List  ...  0.518426\n",
              "2912                                          Star Wars  ...  0.517204\n",
              "262   The Lord of the Rings: The Fellowship of the Ring  ...  0.516016\n",
              "\n",
              "[20 rows x 4 columns]"
            ]
          },
          "metadata": {
            "tags": []
          },
          "execution_count": 26
        }
      ]
    },
    {
      "cell_type": "markdown",
      "metadata": {
        "id": "e0-0w-SsGVeS",
        "colab_type": "text"
      },
      "source": [
        "**Best rated and most popular movies**"
      ]
    },
    {
      "cell_type": "code",
      "metadata": {
        "id": "5OCCOL4-GZjb",
        "colab_type": "code",
        "colab": {
          "base_uri": "https://localhost:8080/",
          "height": 404
        },
        "outputId": "5fb99946-437a-46a7-83ab-89acd8d0ee30"
      },
      "source": [
        "scored_df = movies_cleaned_df.sort_values('score', ascending=False)\n",
        "\n",
        "plt.figure(figsize=(16,6))\n",
        "\n",
        "ax = sns.barplot(x=scored_df['score'].head(10), y=scored_df['original_title'].head(10), data=scored_df, palette='deep')\n",
        "\n",
        "#plt.xlim(3.55, 5.25)\n",
        "plt.title('Best Rated & Most Popular Blend', weight='bold')\n",
        "plt.xlabel('Score', weight='bold')\n",
        "plt.ylabel('Movie Title', weight='bold')\n",
        "\n",
        "plt.savefig('scored_movies.png')"
      ],
      "execution_count": null,
      "outputs": [
        {
          "output_type": "display_data",
          "data": {
            "image/png": "[encoded data removed]",
            "text/plain": [
              "<Figure size 1152x432 with 1 Axes>"
            ]
          },
          "metadata": {
            "tags": [],
            "needs_background": "light"
          }
        }
      ]
    },
    {
      "cell_type": "markdown",
      "metadata": {
        "id": "hPFGwJoGiAHF",
        "colab_type": "text"
      },
      "source": [
        "**Content Based Recommendation System**"
      ]
    },
    {
      "cell_type": "markdown",
      "metadata": {
        "id": "X_y2O3TniNby",
        "colab_type": "text"
      },
      "source": [
        "Now lets make a recommendations based on the movie’s plot summaries given in the overview column. So if our user gives us a movie title, our goal is to recommend movies that share similar plot summaries."
      ]
    },
    {
      "cell_type": "code",
      "metadata": {
        "id": "ob51CPSziOeA",
        "colab_type": "code",
        "colab": {
          "base_uri": "https://localhost:8080/",
          "height": 52
        },
        "outputId": "9c21ea8c-6ab4-4769-beac-0ed8e7684f40"
      },
      "source": [
        "movies_cleaned_df.head(1)['overview']"
      ],
      "execution_count": null,
      "outputs": [
        {
          "output_type": "execute_result",
          "data": {
            "text/plain": [
              "0    In the 22nd century, a paraplegic Marine is di...\n",
              "Name: overview, dtype: object"
            ]
          },
          "metadata": {
            "tags": []
          },
          "execution_count": 28
        }
      ]
    },
    {
      "cell_type": "code",
      "metadata": {
        "id": "jF37uzYwiTGq",
        "colab_type": "code",
        "colab": {}
      },
      "source": [
        "from sklearn.feature_extraction.text import TfidfVectorizer\n",
        "\n",
        "# Using Abhishek Thakur's arguments for TF-IDF\n",
        "tfv = TfidfVectorizer(min_df=3,  max_features=None, \n",
        "            strip_accents='unicode', analyzer='word',token_pattern=r'\\w{1,}',\n",
        "            ngram_range=(1, 3),\n",
        "            stop_words = 'english')\n",
        "\n",
        "# Filling NaNs with empty string\n",
        "movies_cleaned_df['overview'] = movies_cleaned_df['overview'].fillna('')"
      ],
      "execution_count": null,
      "outputs": []
    },
    {
      "cell_type": "code",
      "metadata": {
        "id": "8DB_jch-ijzD",
        "colab_type": "code",
        "colab": {}
      },
      "source": [
        "# Fitting the TF-IDF on the 'overview' text\n",
        "tfv_matrix = tfv.fit_transform(movies_cleaned_df['overview'])"
      ],
      "execution_count": null,
      "outputs": []
    },
    {
      "cell_type": "code",
      "metadata": {
        "id": "YWf0ORn9irmA",
        "colab_type": "code",
        "colab": {
          "base_uri": "https://localhost:8080/",
          "height": 35
        },
        "outputId": "8661bf94-ee2a-47b1-b873-0795ca87996c"
      },
      "source": [
        "tfv_matrix.shape"
      ],
      "execution_count": null,
      "outputs": [
        {
          "output_type": "execute_result",
          "data": {
            "text/plain": [
              "(4803, 10417)"
            ]
          },
          "metadata": {
            "tags": []
          },
          "execution_count": 31
        }
      ]
    },
    {
      "cell_type": "code",
      "metadata": {
        "id": "hw9OrXr5itKn",
        "colab_type": "code",
        "colab": {}
      },
      "source": [
        "from sklearn.metrics.pairwise import sigmoid_kernel\n",
        "\n",
        "# Compute the sigmoid kernel\n",
        "sig = sigmoid_kernel(tfv_matrix, tfv_matrix)"
      ],
      "execution_count": null,
      "outputs": []
    },
    {
      "cell_type": "code",
      "metadata": {
        "id": "Ah8SACpki13I",
        "colab_type": "code",
        "colab": {
          "base_uri": "https://localhost:8080/",
          "height": 243
        },
        "outputId": "3fcbfab3-0758-4764-9d0c-dd77c742bc79"
      },
      "source": [
        "# Reverse mapping of indices and movie titles\n",
        "indices = pd.Series(movies_cleaned_df.index, index=movies_cleaned_df['original_title']).drop_duplicates()\n",
        "indices"
      ],
      "execution_count": null,
      "outputs": [
        {
          "output_type": "execute_result",
          "data": {
            "text/plain": [
              "original_title\n",
              "Avatar                                         0\n",
              "Pirates of the Caribbean: At World's End       1\n",
              "Spectre                                        2\n",
              "The Dark Knight Rises                          3\n",
              "John Carter                                    4\n",
              "                                            ... \n",
              "El Mariachi                                 4798\n",
              "Newlyweds                                   4799\n",
              "Signed, Sealed, Delivered                   4800\n",
              "Shanghai Calling                            4801\n",
              "My Date with Drew                           4802\n",
              "Length: 4803, dtype: int64"
            ]
          },
          "metadata": {
            "tags": []
          },
          "execution_count": 34
        }
      ]
    },
    {
      "cell_type": "code",
      "metadata": {
        "id": "kPYGwPFni7ja",
        "colab_type": "code",
        "colab": {}
      },
      "source": [
        "def give_rec(title, sig=sig):\n",
        "    # Get the index corresponding to original_title\n",
        "    idx = indices[title]\n",
        "\n",
        "    # Get the pairwsie similarity scores \n",
        "    sig_scores = list(enumerate(sig[idx]))\n",
        "\n",
        "    # Sort the movies \n",
        "    sig_scores = sorted(sig_scores, key=lambda x: x[1], reverse=True)\n",
        "\n",
        "    # Scores of the 10 most similar movies\n",
        "    sig_scores = sig_scores[1:11]\n",
        "\n",
        "    # Movie indices\n",
        "    movie_indices = [i[0] for i in sig_scores]\n",
        "\n",
        "    # Top 10 most similar movies\n",
        "    return movies_cleaned_df['original_title'].iloc[movie_indices]"
      ],
      "execution_count": null,
      "outputs": []
    },
    {
      "cell_type": "markdown",
      "metadata": {
        "id": "ItiqEB1QjKHh",
        "colab_type": "text"
      },
      "source": [
        "**Testing our content-based recommendation system with the seminal film Spy Kids**"
      ]
    },
    {
      "cell_type": "code",
      "metadata": {
        "id": "dH3wmqVPjPC3",
        "colab_type": "code",
        "colab": {
          "base_uri": "https://localhost:8080/",
          "height": 208
        },
        "outputId": "d51f016f-f92d-4a71-f729-0996cef19cf2"
      },
      "source": [
        "# Testing our content-based recommendation system with the seminal film Spy Kids\n",
        "give_rec('Newlyweds')"
      ],
      "execution_count": null,
      "outputs": [
        {
          "output_type": "execute_result",
          "data": {
            "text/plain": [
              "616                       Ted 2\n",
              "2689         Our Family Wedding\n",
              "869          You, Me and Dupree\n",
              "3969           Something Wicked\n",
              "1576                 Bride Wars\n",
              "2290               Just Married\n",
              "1032      America's Sweethearts\n",
              "3145                      Amour\n",
              "2531     Why Did I Get Married?\n",
              "504     The Secret Life of Pets\n",
              "Name: original_title, dtype: object"
            ]
          },
          "metadata": {
            "tags": []
          },
          "execution_count": 44
        }
      ]
    }
  ]
}